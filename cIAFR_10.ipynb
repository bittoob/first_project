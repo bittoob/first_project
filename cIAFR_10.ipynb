{
  "nbformat": 4,
  "nbformat_minor": 0,
  "metadata": {
    "accelerator": "GPU",
    "colab": {
      "name": "cIAFR-10.ipynb",
      "provenance": [],
      "collapsed_sections": []
    },
    "kernelspec": {
      "display_name": "Python 3",
      "name": "python3"
    },
    "language_info": {
      "name": "python"
    }
  },
  "cells": [
    {
      "cell_type": "code",
      "metadata": {
        "id": "hBAtFEMXXwII"
      },
      "source": [
        "import tensorflow as tf\n",
        "import matplotlib.pyplot as plt\n",
        "\n",
        "from tensorflow.keras.datasets import cifar10 "
      ],
      "execution_count": 1,
      "outputs": []
    },
    {
      "cell_type": "code",
      "metadata": {
        "colab": {
          "base_uri": "https://localhost:8080/"
        },
        "id": "x20a45_GYs7l",
        "outputId": "5dc13f85-3f7b-4520-87f4-e165307d5aa1"
      },
      "source": [
        "from keras.datasets import cifar10\n",
        "# Load pre-shuffled cifar10 data into train and test sets\n",
        "(X_train, y_train), (X_test, y_test) = cifar10.load_data()"
      ],
      "execution_count": 2,
      "outputs": [
        {
          "output_type": "stream",
          "text": [
            "Downloading data from https://www.cs.toronto.edu/~kriz/cifar-10-python.tar.gz\n",
            "170500096/170498071 [==============================] - 3s 0us/step\n",
            "170508288/170498071 [==============================] - 3s 0us/step\n"
          ],
          "name": "stdout"
        }
      ]
    },
    {
      "cell_type": "code",
      "metadata": {
        "colab": {
          "base_uri": "https://localhost:8080/"
        },
        "id": "CzjRpJYhagWU",
        "outputId": "26b5eb59-7871-4c4a-d3c7-3178b327b6c4"
      },
      "source": [
        "X_train"
      ],
      "execution_count": 3,
      "outputs": [
        {
          "output_type": "execute_result",
          "data": {
            "text/plain": [
              "array([[[[ 59,  62,  63],\n",
              "         [ 43,  46,  45],\n",
              "         [ 50,  48,  43],\n",
              "         ...,\n",
              "         [158, 132, 108],\n",
              "         [152, 125, 102],\n",
              "         [148, 124, 103]],\n",
              "\n",
              "        [[ 16,  20,  20],\n",
              "         [  0,   0,   0],\n",
              "         [ 18,   8,   0],\n",
              "         ...,\n",
              "         [123,  88,  55],\n",
              "         [119,  83,  50],\n",
              "         [122,  87,  57]],\n",
              "\n",
              "        [[ 25,  24,  21],\n",
              "         [ 16,   7,   0],\n",
              "         [ 49,  27,   8],\n",
              "         ...,\n",
              "         [118,  84,  50],\n",
              "         [120,  84,  50],\n",
              "         [109,  73,  42]],\n",
              "\n",
              "        ...,\n",
              "\n",
              "        [[208, 170,  96],\n",
              "         [201, 153,  34],\n",
              "         [198, 161,  26],\n",
              "         ...,\n",
              "         [160, 133,  70],\n",
              "         [ 56,  31,   7],\n",
              "         [ 53,  34,  20]],\n",
              "\n",
              "        [[180, 139,  96],\n",
              "         [173, 123,  42],\n",
              "         [186, 144,  30],\n",
              "         ...,\n",
              "         [184, 148,  94],\n",
              "         [ 97,  62,  34],\n",
              "         [ 83,  53,  34]],\n",
              "\n",
              "        [[177, 144, 116],\n",
              "         [168, 129,  94],\n",
              "         [179, 142,  87],\n",
              "         ...,\n",
              "         [216, 184, 140],\n",
              "         [151, 118,  84],\n",
              "         [123,  92,  72]]],\n",
              "\n",
              "\n",
              "       [[[154, 177, 187],\n",
              "         [126, 137, 136],\n",
              "         [105, 104,  95],\n",
              "         ...,\n",
              "         [ 91,  95,  71],\n",
              "         [ 87,  90,  71],\n",
              "         [ 79,  81,  70]],\n",
              "\n",
              "        [[140, 160, 169],\n",
              "         [145, 153, 154],\n",
              "         [125, 125, 118],\n",
              "         ...,\n",
              "         [ 96,  99,  78],\n",
              "         [ 77,  80,  62],\n",
              "         [ 71,  73,  61]],\n",
              "\n",
              "        [[140, 155, 164],\n",
              "         [139, 146, 149],\n",
              "         [115, 115, 112],\n",
              "         ...,\n",
              "         [ 79,  82,  64],\n",
              "         [ 68,  70,  55],\n",
              "         [ 67,  69,  55]],\n",
              "\n",
              "        ...,\n",
              "\n",
              "        [[175, 167, 166],\n",
              "         [156, 154, 160],\n",
              "         [154, 160, 170],\n",
              "         ...,\n",
              "         [ 42,  34,  36],\n",
              "         [ 61,  53,  57],\n",
              "         [ 93,  83,  91]],\n",
              "\n",
              "        [[165, 154, 128],\n",
              "         [156, 152, 130],\n",
              "         [159, 161, 142],\n",
              "         ...,\n",
              "         [103,  93,  96],\n",
              "         [123, 114, 120],\n",
              "         [131, 121, 131]],\n",
              "\n",
              "        [[163, 148, 120],\n",
              "         [158, 148, 122],\n",
              "         [163, 156, 133],\n",
              "         ...,\n",
              "         [143, 133, 139],\n",
              "         [143, 134, 142],\n",
              "         [143, 133, 144]]],\n",
              "\n",
              "\n",
              "       [[[255, 255, 255],\n",
              "         [253, 253, 253],\n",
              "         [253, 253, 253],\n",
              "         ...,\n",
              "         [253, 253, 253],\n",
              "         [253, 253, 253],\n",
              "         [253, 253, 253]],\n",
              "\n",
              "        [[255, 255, 255],\n",
              "         [255, 255, 255],\n",
              "         [255, 255, 255],\n",
              "         ...,\n",
              "         [255, 255, 255],\n",
              "         [255, 255, 255],\n",
              "         [255, 255, 255]],\n",
              "\n",
              "        [[255, 255, 255],\n",
              "         [254, 254, 254],\n",
              "         [254, 254, 254],\n",
              "         ...,\n",
              "         [254, 254, 254],\n",
              "         [254, 254, 254],\n",
              "         [254, 254, 254]],\n",
              "\n",
              "        ...,\n",
              "\n",
              "        [[113, 120, 112],\n",
              "         [111, 118, 111],\n",
              "         [105, 112, 106],\n",
              "         ...,\n",
              "         [ 72,  81,  80],\n",
              "         [ 72,  80,  79],\n",
              "         [ 72,  80,  79]],\n",
              "\n",
              "        [[111, 118, 110],\n",
              "         [104, 111, 104],\n",
              "         [ 99, 106,  98],\n",
              "         ...,\n",
              "         [ 68,  75,  73],\n",
              "         [ 70,  76,  75],\n",
              "         [ 78,  84,  82]],\n",
              "\n",
              "        [[106, 113, 105],\n",
              "         [ 99, 106,  98],\n",
              "         [ 95, 102,  94],\n",
              "         ...,\n",
              "         [ 78,  85,  83],\n",
              "         [ 79,  85,  83],\n",
              "         [ 80,  86,  84]]],\n",
              "\n",
              "\n",
              "       ...,\n",
              "\n",
              "\n",
              "       [[[ 35, 178, 235],\n",
              "         [ 40, 176, 239],\n",
              "         [ 42, 176, 241],\n",
              "         ...,\n",
              "         [ 99, 177, 219],\n",
              "         [ 79, 147, 197],\n",
              "         [ 89, 148, 189]],\n",
              "\n",
              "        [[ 57, 182, 234],\n",
              "         [ 44, 184, 250],\n",
              "         [ 50, 183, 240],\n",
              "         ...,\n",
              "         [156, 182, 200],\n",
              "         [141, 177, 206],\n",
              "         [116, 149, 175]],\n",
              "\n",
              "        [[ 98, 197, 237],\n",
              "         [ 64, 189, 252],\n",
              "         [ 69, 192, 245],\n",
              "         ...,\n",
              "         [188, 195, 206],\n",
              "         [119, 135, 147],\n",
              "         [ 61,  79,  90]],\n",
              "\n",
              "        ...,\n",
              "\n",
              "        [[ 73,  79,  77],\n",
              "         [ 53,  63,  68],\n",
              "         [ 54,  68,  80],\n",
              "         ...,\n",
              "         [ 17,  40,  64],\n",
              "         [ 21,  36,  51],\n",
              "         [ 33,  48,  49]],\n",
              "\n",
              "        [[ 61,  68,  75],\n",
              "         [ 55,  70,  86],\n",
              "         [ 57,  79, 103],\n",
              "         ...,\n",
              "         [ 24,  48,  72],\n",
              "         [ 17,  35,  53],\n",
              "         [  7,  23,  32]],\n",
              "\n",
              "        [[ 44,  56,  73],\n",
              "         [ 46,  66,  88],\n",
              "         [ 49,  77, 105],\n",
              "         ...,\n",
              "         [ 27,  52,  77],\n",
              "         [ 21,  43,  66],\n",
              "         [ 12,  31,  50]]],\n",
              "\n",
              "\n",
              "       [[[189, 211, 240],\n",
              "         [186, 208, 236],\n",
              "         [185, 207, 235],\n",
              "         ...,\n",
              "         [175, 195, 224],\n",
              "         [172, 194, 222],\n",
              "         [169, 194, 220]],\n",
              "\n",
              "        [[194, 210, 239],\n",
              "         [191, 207, 236],\n",
              "         [190, 206, 235],\n",
              "         ...,\n",
              "         [173, 192, 220],\n",
              "         [171, 191, 218],\n",
              "         [167, 190, 216]],\n",
              "\n",
              "        [[208, 219, 244],\n",
              "         [205, 216, 240],\n",
              "         [204, 215, 239],\n",
              "         ...,\n",
              "         [175, 191, 217],\n",
              "         [172, 190, 216],\n",
              "         [169, 191, 215]],\n",
              "\n",
              "        ...,\n",
              "\n",
              "        [[207, 199, 181],\n",
              "         [203, 195, 175],\n",
              "         [203, 196, 173],\n",
              "         ...,\n",
              "         [135, 132, 127],\n",
              "         [162, 158, 150],\n",
              "         [168, 163, 151]],\n",
              "\n",
              "        [[198, 190, 170],\n",
              "         [189, 181, 159],\n",
              "         [180, 172, 147],\n",
              "         ...,\n",
              "         [178, 171, 160],\n",
              "         [175, 169, 156],\n",
              "         [175, 169, 154]],\n",
              "\n",
              "        [[198, 189, 173],\n",
              "         [189, 181, 162],\n",
              "         [178, 170, 149],\n",
              "         ...,\n",
              "         [195, 184, 169],\n",
              "         [196, 189, 171],\n",
              "         [195, 190, 171]]],\n",
              "\n",
              "\n",
              "       [[[229, 229, 239],\n",
              "         [236, 237, 247],\n",
              "         [234, 236, 247],\n",
              "         ...,\n",
              "         [217, 219, 233],\n",
              "         [221, 223, 234],\n",
              "         [222, 223, 233]],\n",
              "\n",
              "        [[222, 221, 229],\n",
              "         [239, 239, 249],\n",
              "         [233, 234, 246],\n",
              "         ...,\n",
              "         [223, 223, 236],\n",
              "         [227, 228, 238],\n",
              "         [210, 211, 220]],\n",
              "\n",
              "        [[213, 206, 211],\n",
              "         [234, 232, 239],\n",
              "         [231, 233, 244],\n",
              "         ...,\n",
              "         [220, 220, 232],\n",
              "         [220, 219, 232],\n",
              "         [202, 203, 215]],\n",
              "\n",
              "        ...,\n",
              "\n",
              "        [[150, 143, 135],\n",
              "         [140, 135, 127],\n",
              "         [132, 127, 120],\n",
              "         ...,\n",
              "         [224, 222, 218],\n",
              "         [230, 228, 225],\n",
              "         [241, 241, 238]],\n",
              "\n",
              "        [[137, 132, 126],\n",
              "         [130, 127, 120],\n",
              "         [125, 121, 115],\n",
              "         ...,\n",
              "         [181, 180, 178],\n",
              "         [202, 201, 198],\n",
              "         [212, 211, 207]],\n",
              "\n",
              "        [[122, 119, 114],\n",
              "         [118, 116, 110],\n",
              "         [120, 116, 111],\n",
              "         ...,\n",
              "         [179, 177, 173],\n",
              "         [164, 164, 162],\n",
              "         [163, 163, 161]]]], dtype=uint8)"
            ]
          },
          "metadata": {
            "tags": []
          },
          "execution_count": 3
        }
      ]
    },
    {
      "cell_type": "code",
      "metadata": {
        "colab": {
          "base_uri": "https://localhost:8080/"
        },
        "id": "PO49Vpw4al8J",
        "outputId": "8f2fff54-eac5-40c8-8882-462ff2e2b525"
      },
      "source": [
        "X_train.shape"
      ],
      "execution_count": 5,
      "outputs": [
        {
          "output_type": "execute_result",
          "data": {
            "text/plain": [
              "(50000, 32, 32, 3)"
            ]
          },
          "metadata": {
            "tags": []
          },
          "execution_count": 5
        }
      ]
    },
    {
      "cell_type": "code",
      "metadata": {
        "colab": {
          "base_uri": "https://localhost:8080/"
        },
        "id": "3KBhyasBa3rT",
        "outputId": "2b9b31ca-cf4c-46b2-9bd7-20a74a9fe30a"
      },
      "source": [
        "X_test.shape"
      ],
      "execution_count": 6,
      "outputs": [
        {
          "output_type": "execute_result",
          "data": {
            "text/plain": [
              "(10000, 32, 32, 3)"
            ]
          },
          "metadata": {
            "tags": []
          },
          "execution_count": 6
        }
      ]
    },
    {
      "cell_type": "code",
      "metadata": {
        "id": "SyvMDYpwbF61"
      },
      "source": [
        "##The first step of any Machine Learning, Deep Learning or Data Science project is to pre-process the data. We will be defining the names of the classes, over which the dataset is distributed. There are 10 different classes of color images of size 32x32. Once we have set the class name. We need to normalize the image so that our model can train faster. The pixel range of a color image is 0–255. We will be dividing each pixel of the image by 255 so the pixel range will be between 0–1. Actually, we will be dividing it by 255.0 as it is a float operation. For the model, we will be using Convolutional Neural Networks (CNN)."
      ],
      "execution_count": null,
      "outputs": []
    },
    {
      "cell_type": "code",
      "metadata": {
        "id": "hEdFXZLNYHGc"
      },
      "source": [
        "class_names=['airplane','automobile','bird','cat','deer','dog','frog','horse','ship','truck']\n"
      ],
      "execution_count": 7,
      "outputs": []
    },
    {
      "cell_type": "code",
      "metadata": {
        "colab": {
          "base_uri": "https://localhost:8080/"
        },
        "id": "gxP8g-03a2qU",
        "outputId": "b523b3ce-e6b5-480e-df05-39276a6bb339"
      },
      "source": [
        "X_train=X_train/255.0\n",
        "X_train.shape\n",
        "X_test=X_test/255.0\n",
        "X_test.shape"
      ],
      "execution_count": 8,
      "outputs": [
        {
          "output_type": "execute_result",
          "data": {
            "text/plain": [
              "(10000, 32, 32, 3)"
            ]
          },
          "metadata": {
            "tags": []
          },
          "execution_count": 8
        }
      ]
    },
    {
      "cell_type": "code",
      "metadata": {
        "colab": {
          "base_uri": "https://localhost:8080/"
        },
        "id": "BS3ZthMBbR1x",
        "outputId": "8d51493f-4595-4cc5-e46d-a27359a32c38"
      },
      "source": [
        "X_train.shape"
      ],
      "execution_count": 9,
      "outputs": [
        {
          "output_type": "execute_result",
          "data": {
            "text/plain": [
              "(50000, 32, 32, 3)"
            ]
          },
          "metadata": {
            "tags": []
          },
          "execution_count": 9
        }
      ]
    },
    {
      "cell_type": "code",
      "metadata": {
        "colab": {
          "base_uri": "https://localhost:8080/"
        },
        "id": "zE81U4WhbYwS",
        "outputId": "a9fc2539-ac76-4fba-d4d4-4d2709435b72"
      },
      "source": [
        "X_test.shape"
      ],
      "execution_count": 10,
      "outputs": [
        {
          "output_type": "execute_result",
          "data": {
            "text/plain": [
              "(10000, 32, 32, 3)"
            ]
          },
          "metadata": {
            "tags": []
          },
          "execution_count": 10
        }
      ]
    },
    {
      "cell_type": "code",
      "metadata": {
        "id": "w-pW2zOdbbCq"
      },
      "source": [
        "cifar10_model=tf.keras.models.Sequential()\n",
        "# First Layer\n",
        "cifar10_model.add(tf.keras.layers.Conv2D(filters=32,\n",
        "                                         kernel_size=3, \n",
        "                                         padding='same', \n",
        "                                         activation='relu', \n",
        "                                         input_shape=[32,32,3]))"
      ],
      "execution_count": 11,
      "outputs": []
    },
    {
      "cell_type": "code",
      "metadata": {
        "id": "ButKc_F3cXrj"
      },
      "source": [
        "#MaxPoolingLayer\n",
        "cifar10_model.add(tf.keras.layers.MaxPool2D(pool_size=2,\n",
        "                                            strides=2, \n",
        "                                            padding='valid'))"
      ],
      "execution_count": 12,
      "outputs": []
    },
    {
      "cell_type": "code",
      "metadata": {
        "id": "4WSrmfLOdC6s"
      },
      "source": [
        ""
      ],
      "execution_count": 12,
      "outputs": []
    },
    {
      "cell_type": "code",
      "metadata": {
        "id": "JuKyFVbGdKcj"
      },
      "source": [
        "# Flattening Layer\n",
        "cifar10_model.add(tf.keras.layers.Flatten())"
      ],
      "execution_count": 13,
      "outputs": []
    },
    {
      "cell_type": "code",
      "metadata": {
        "id": "3hbME5aufkbv"
      },
      "source": [
        ""
      ],
      "execution_count": 13,
      "outputs": []
    },
    {
      "cell_type": "code",
      "metadata": {
        "id": "X8J7KniTeufT"
      },
      "source": [
        "\n",
        "# Adding the first fully connected layer\n",
        "cifar10_model.add(tf.keras.layers.Dense(units= 128,\n",
        "                                        activation='relu'))"
      ],
      "execution_count": 14,
      "outputs": []
    },
    {
      "cell_type": "code",
      "metadata": {
        "id": "rE_5qJJte6ck"
      },
      "source": [
        "# Output Layer\n",
        "cifar10_model.add(tf.keras.layers.Dense(units=10,activation='softmax'))"
      ],
      "execution_count": 15,
      "outputs": []
    },
    {
      "cell_type": "code",
      "metadata": {
        "colab": {
          "base_uri": "https://localhost:8080/"
        },
        "id": "LsXhXLjkhTeE",
        "outputId": "29ba3362-8db6-4b0d-ce77-702f3d3e25a7"
      },
      "source": [
        "cifar10_model.summary()"
      ],
      "execution_count": 16,
      "outputs": [
        {
          "output_type": "stream",
          "text": [
            "Model: \"sequential\"\n",
            "_________________________________________________________________\n",
            "Layer (type)                 Output Shape              Param #   \n",
            "=================================================================\n",
            "conv2d (Conv2D)              (None, 32, 32, 32)        896       \n",
            "_________________________________________________________________\n",
            "max_pooling2d (MaxPooling2D) (None, 16, 16, 32)        0         \n",
            "_________________________________________________________________\n",
            "flatten (Flatten)            (None, 8192)              0         \n",
            "_________________________________________________________________\n",
            "dense (Dense)                (None, 128)               1048704   \n",
            "_________________________________________________________________\n",
            "dense_1 (Dense)              (None, 10)                1290      \n",
            "=================================================================\n",
            "Total params: 1,050,890\n",
            "Trainable params: 1,050,890\n",
            "Non-trainable params: 0\n",
            "_________________________________________________________________\n"
          ],
          "name": "stdout"
        }
      ]
    },
    {
      "cell_type": "code",
      "metadata": {
        "id": "B7xY8OU0hWiT"
      },
      "source": [
        "cifar10_model.compile(loss=\"sparse_categorical_crossentropy\", optimizer=\"Adam\", metrics=[\"sparse_categorical_accuracy\"])"
      ],
      "execution_count": 17,
      "outputs": []
    },
    {
      "cell_type": "code",
      "metadata": {
        "colab": {
          "base_uri": "https://localhost:8080/"
        },
        "id": "TOLW4-WjhdgD",
        "outputId": "b645b9e2-dcd8-494d-a847-89e602a8e509"
      },
      "source": [
        "\n",
        "cifar10_model.fit(X_train,y_train,epochs=15)"
      ],
      "execution_count": 18,
      "outputs": [
        {
          "output_type": "stream",
          "text": [
            "Epoch 1/15\n",
            "1563/1563 [==============================] - 36s 3ms/step - loss: 1.4423 - sparse_categorical_accuracy: 0.4862\n",
            "Epoch 2/15\n",
            "1563/1563 [==============================] - 5s 3ms/step - loss: 1.1348 - sparse_categorical_accuracy: 0.6024\n",
            "Epoch 3/15\n",
            "1563/1563 [==============================] - 5s 3ms/step - loss: 1.0041 - sparse_categorical_accuracy: 0.6503\n",
            "Epoch 4/15\n",
            "1563/1563 [==============================] - 5s 3ms/step - loss: 0.9196 - sparse_categorical_accuracy: 0.6799\n",
            "Epoch 5/15\n",
            "1563/1563 [==============================] - 5s 3ms/step - loss: 0.8506 - sparse_categorical_accuracy: 0.7025\n",
            "Epoch 6/15\n",
            "1563/1563 [==============================] - 5s 3ms/step - loss: 0.7921 - sparse_categorical_accuracy: 0.7245\n",
            "Epoch 7/15\n",
            "1563/1563 [==============================] - 5s 3ms/step - loss: 0.7358 - sparse_categorical_accuracy: 0.7428\n",
            "Epoch 8/15\n",
            "1563/1563 [==============================] - 5s 3ms/step - loss: 0.6859 - sparse_categorical_accuracy: 0.7577\n",
            "Epoch 9/15\n",
            "1563/1563 [==============================] - 5s 3ms/step - loss: 0.6380 - sparse_categorical_accuracy: 0.7759\n",
            "Epoch 10/15\n",
            "1563/1563 [==============================] - 5s 3ms/step - loss: 0.5856 - sparse_categorical_accuracy: 0.7948\n",
            "Epoch 11/15\n",
            "1563/1563 [==============================] - 5s 3ms/step - loss: 0.5382 - sparse_categorical_accuracy: 0.8110\n",
            "Epoch 12/15\n",
            "1563/1563 [==============================] - 5s 3ms/step - loss: 0.4943 - sparse_categorical_accuracy: 0.8302\n",
            "Epoch 13/15\n",
            "1563/1563 [==============================] - 5s 3ms/step - loss: 0.4507 - sparse_categorical_accuracy: 0.8423\n",
            "Epoch 14/15\n",
            "1563/1563 [==============================] - 5s 3ms/step - loss: 0.4083 - sparse_categorical_accuracy: 0.8585\n",
            "Epoch 15/15\n",
            "1563/1563 [==============================] - 5s 3ms/step - loss: 0.3712 - sparse_categorical_accuracy: 0.8714\n"
          ],
          "name": "stdout"
        },
        {
          "output_type": "execute_result",
          "data": {
            "text/plain": [
              "<tensorflow.python.keras.callbacks.History at 0x7fc48068dc90>"
            ]
          },
          "metadata": {
            "tags": []
          },
          "execution_count": 18
        }
      ]
    },
    {
      "cell_type": "code",
      "metadata": {
        "colab": {
          "background_save": true,
          "base_uri": "https://localhost:8080/"
        },
        "id": "YKNdzwAOhh2s",
        "outputId": "65668ec5-245b-4e73-d5e2-42d167cc5910"
      },
      "source": [
        "#cifar10_model.fit(X_train,y_train,epochs=100)"
      ],
      "execution_count": null,
      "outputs": [
        {
          "output_type": "stream",
          "text": [
            "Epoch 1/100\n",
            "1563/1563 [==============================] - 6s 4ms/step - loss: 0.8580 - sparse_categorical_accuracy: 0.7013\n",
            "Epoch 2/100\n",
            "1563/1563 [==============================] - 6s 4ms/step - loss: 0.8489 - sparse_categorical_accuracy: 0.7045\n",
            "Epoch 3/100\n",
            "1563/1563 [==============================] - 6s 4ms/step - loss: 0.8380 - sparse_categorical_accuracy: 0.7062\n",
            "Epoch 4/100\n",
            "1563/1563 [==============================] - 6s 4ms/step - loss: 0.8219 - sparse_categorical_accuracy: 0.7140\n",
            "Epoch 5/100\n",
            "1563/1563 [==============================] - 6s 4ms/step - loss: 0.8156 - sparse_categorical_accuracy: 0.7180\n",
            "Epoch 6/100\n",
            "1563/1563 [==============================] - 6s 4ms/step - loss: 0.8058 - sparse_categorical_accuracy: 0.7172\n",
            "Epoch 7/100\n",
            "1563/1563 [==============================] - 6s 4ms/step - loss: 0.7963 - sparse_categorical_accuracy: 0.7217\n",
            "Epoch 8/100\n",
            "1563/1563 [==============================] - 6s 4ms/step - loss: 0.7856 - sparse_categorical_accuracy: 0.7277\n",
            "Epoch 9/100\n",
            "1563/1563 [==============================] - 6s 4ms/step - loss: 0.7775 - sparse_categorical_accuracy: 0.7300\n",
            "Epoch 10/100\n",
            "1563/1563 [==============================] - 6s 4ms/step - loss: 0.7699 - sparse_categorical_accuracy: 0.7329\n",
            "Epoch 11/100\n",
            "1563/1563 [==============================] - 6s 4ms/step - loss: 0.7614 - sparse_categorical_accuracy: 0.7354\n",
            "Epoch 12/100\n",
            "1563/1563 [==============================] - 6s 4ms/step - loss: 0.7562 - sparse_categorical_accuracy: 0.7365\n",
            "Epoch 13/100\n",
            "1563/1563 [==============================] - 6s 4ms/step - loss: 0.7489 - sparse_categorical_accuracy: 0.7358\n",
            "Epoch 14/100\n",
            "1563/1563 [==============================] - 6s 4ms/step - loss: 0.7457 - sparse_categorical_accuracy: 0.7401\n",
            "Epoch 15/100\n",
            "1563/1563 [==============================] - 6s 4ms/step - loss: 0.7356 - sparse_categorical_accuracy: 0.7423\n",
            "Epoch 16/100\n",
            "1563/1563 [==============================] - 6s 4ms/step - loss: 0.7310 - sparse_categorical_accuracy: 0.7437\n",
            "Epoch 17/100\n",
            "1563/1563 [==============================] - 6s 4ms/step - loss: 0.7251 - sparse_categorical_accuracy: 0.7479\n",
            "Epoch 18/100\n",
            "1563/1563 [==============================] - 6s 4ms/step - loss: 0.7210 - sparse_categorical_accuracy: 0.7480\n",
            "Epoch 19/100\n",
            "1563/1563 [==============================] - 6s 4ms/step - loss: 0.7123 - sparse_categorical_accuracy: 0.7503\n",
            "Epoch 20/100\n",
            "1563/1563 [==============================] - 6s 4ms/step - loss: 0.7074 - sparse_categorical_accuracy: 0.7513\n",
            "Epoch 21/100\n",
            "1563/1563 [==============================] - 6s 4ms/step - loss: 0.7039 - sparse_categorical_accuracy: 0.7542\n",
            "Epoch 22/100\n",
            "1563/1563 [==============================] - 6s 4ms/step - loss: 0.6986 - sparse_categorical_accuracy: 0.7533\n",
            "Epoch 23/100\n",
            "1563/1563 [==============================] - 6s 4ms/step - loss: 0.6900 - sparse_categorical_accuracy: 0.7578\n",
            "Epoch 24/100\n",
            "1563/1563 [==============================] - 6s 4ms/step - loss: 0.6884 - sparse_categorical_accuracy: 0.7582\n",
            "Epoch 25/100\n",
            "1563/1563 [==============================] - 6s 4ms/step - loss: 0.6846 - sparse_categorical_accuracy: 0.7585\n",
            "Epoch 26/100\n",
            "1563/1563 [==============================] - 6s 4ms/step - loss: 0.6769 - sparse_categorical_accuracy: 0.7629\n",
            "Epoch 27/100\n",
            "1563/1563 [==============================] - 6s 4ms/step - loss: 0.6714 - sparse_categorical_accuracy: 0.7642\n",
            "Epoch 28/100\n",
            "1563/1563 [==============================] - 6s 4ms/step - loss: 0.6710 - sparse_categorical_accuracy: 0.7655\n",
            "Epoch 29/100\n",
            "1563/1563 [==============================] - 6s 4ms/step - loss: 0.6676 - sparse_categorical_accuracy: 0.7661\n",
            "Epoch 30/100\n",
            "1563/1563 [==============================] - 6s 4ms/step - loss: 0.6625 - sparse_categorical_accuracy: 0.7685\n",
            "Epoch 31/100\n",
            "1563/1563 [==============================] - 6s 4ms/step - loss: 0.6574 - sparse_categorical_accuracy: 0.7665\n",
            "Epoch 32/100\n",
            "1563/1563 [==============================] - 6s 4ms/step - loss: 0.6516 - sparse_categorical_accuracy: 0.7709\n",
            "Epoch 33/100\n",
            "1563/1563 [==============================] - 6s 4ms/step - loss: 0.6547 - sparse_categorical_accuracy: 0.7700\n",
            "Epoch 34/100\n",
            "1563/1563 [==============================] - 6s 4ms/step - loss: 0.6463 - sparse_categorical_accuracy: 0.7717\n",
            "Epoch 35/100\n",
            "1563/1563 [==============================] - 6s 4ms/step - loss: 0.6408 - sparse_categorical_accuracy: 0.7754\n",
            "Epoch 36/100\n",
            "1563/1563 [==============================] - 6s 4ms/step - loss: 0.6413 - sparse_categorical_accuracy: 0.7755\n",
            "Epoch 37/100\n",
            "1563/1563 [==============================] - 6s 4ms/step - loss: 0.6359 - sparse_categorical_accuracy: 0.7756\n",
            "Epoch 38/100\n",
            "1563/1563 [==============================] - 6s 4ms/step - loss: 0.6323 - sparse_categorical_accuracy: 0.7777\n",
            "Epoch 39/100\n",
            "1563/1563 [==============================] - 6s 4ms/step - loss: 0.6335 - sparse_categorical_accuracy: 0.7772\n",
            "Epoch 40/100\n",
            "1563/1563 [==============================] - 6s 4ms/step - loss: 0.6254 - sparse_categorical_accuracy: 0.7809\n",
            "Epoch 41/100\n",
            "1563/1563 [==============================] - 6s 4ms/step - loss: 0.6247 - sparse_categorical_accuracy: 0.7795\n",
            "Epoch 42/100\n",
            "1563/1563 [==============================] - 6s 4ms/step - loss: 0.6166 - sparse_categorical_accuracy: 0.7824\n",
            "Epoch 43/100\n",
            "1563/1563 [==============================] - 6s 4ms/step - loss: 0.6145 - sparse_categorical_accuracy: 0.7841\n",
            "Epoch 44/100\n",
            "1563/1563 [==============================] - 6s 4ms/step - loss: 0.6142 - sparse_categorical_accuracy: 0.7829\n",
            "Epoch 45/100\n",
            "1563/1563 [==============================] - 6s 4ms/step - loss: 0.6093 - sparse_categorical_accuracy: 0.7857\n",
            "Epoch 46/100\n",
            "1563/1563 [==============================] - 6s 4ms/step - loss: 0.6051 - sparse_categorical_accuracy: 0.7872\n",
            "Epoch 47/100\n",
            "1563/1563 [==============================] - 6s 4ms/step - loss: 0.6069 - sparse_categorical_accuracy: 0.7859\n",
            "Epoch 48/100\n",
            "1563/1563 [==============================] - 6s 4ms/step - loss: 0.6021 - sparse_categorical_accuracy: 0.7874\n",
            "Epoch 49/100\n",
            "1563/1563 [==============================] - 6s 4ms/step - loss: 0.5966 - sparse_categorical_accuracy: 0.7900\n",
            "Epoch 50/100\n",
            "1563/1563 [==============================] - 6s 4ms/step - loss: 0.5938 - sparse_categorical_accuracy: 0.7905\n",
            "Epoch 51/100\n",
            "1563/1563 [==============================] - 6s 4ms/step - loss: 0.5951 - sparse_categorical_accuracy: 0.7900\n",
            "Epoch 52/100\n",
            "1563/1563 [==============================] - 6s 4ms/step - loss: 0.5900 - sparse_categorical_accuracy: 0.7906\n",
            "Epoch 53/100\n",
            "1563/1563 [==============================] - 6s 4ms/step - loss: 0.5883 - sparse_categorical_accuracy: 0.7927\n",
            "Epoch 54/100\n",
            "1563/1563 [==============================] - 6s 4ms/step - loss: 0.5853 - sparse_categorical_accuracy: 0.7930\n",
            "Epoch 55/100\n",
            "1563/1563 [==============================] - 6s 4ms/step - loss: 0.5846 - sparse_categorical_accuracy: 0.7927\n",
            "Epoch 56/100\n",
            "1563/1563 [==============================] - 6s 4ms/step - loss: 0.5790 - sparse_categorical_accuracy: 0.7951\n",
            "Epoch 57/100\n",
            "1563/1563 [==============================] - 6s 4ms/step - loss: 0.5777 - sparse_categorical_accuracy: 0.7959\n",
            "Epoch 58/100\n",
            "1563/1563 [==============================] - 6s 4ms/step - loss: 0.5783 - sparse_categorical_accuracy: 0.7943\n",
            "Epoch 59/100\n",
            "1563/1563 [==============================] - 6s 4ms/step - loss: 0.5692 - sparse_categorical_accuracy: 0.7999\n",
            "Epoch 60/100\n",
            "1563/1563 [==============================] - 6s 4ms/step - loss: 0.5698 - sparse_categorical_accuracy: 0.7992\n",
            "Epoch 61/100\n",
            "1563/1563 [==============================] - 6s 4ms/step - loss: 0.5648 - sparse_categorical_accuracy: 0.8014\n",
            "Epoch 62/100\n",
            "1563/1563 [==============================] - 6s 4ms/step - loss: 0.5624 - sparse_categorical_accuracy: 0.8008\n",
            "Epoch 63/100\n",
            "1563/1563 [==============================] - 6s 4ms/step - loss: 0.5649 - sparse_categorical_accuracy: 0.8009\n",
            "Epoch 64/100\n",
            "1563/1563 [==============================] - 6s 4ms/step - loss: 0.5596 - sparse_categorical_accuracy: 0.8025\n",
            "Epoch 65/100\n",
            "1563/1563 [==============================] - 6s 4ms/step - loss: 0.5587 - sparse_categorical_accuracy: 0.8022\n",
            "Epoch 66/100\n",
            "1563/1563 [==============================] - 6s 4ms/step - loss: 0.5560 - sparse_categorical_accuracy: 0.8022\n",
            "Epoch 67/100\n",
            "1563/1563 [==============================] - 6s 4ms/step - loss: 0.5551 - sparse_categorical_accuracy: 0.8035\n",
            "Epoch 68/100\n",
            "1563/1563 [==============================] - 6s 4ms/step - loss: 0.5495 - sparse_categorical_accuracy: 0.8062\n",
            "Epoch 69/100\n",
            "1563/1563 [==============================] - 6s 4ms/step - loss: 0.5477 - sparse_categorical_accuracy: 0.8040\n",
            "Epoch 70/100\n",
            "1563/1563 [==============================] - 6s 4ms/step - loss: 0.5466 - sparse_categorical_accuracy: 0.8054\n",
            "Epoch 71/100\n",
            "1563/1563 [==============================] - 6s 4ms/step - loss: 0.5461 - sparse_categorical_accuracy: 0.8073\n",
            "Epoch 72/100\n",
            "1563/1563 [==============================] - 6s 4ms/step - loss: 0.5481 - sparse_categorical_accuracy: 0.8053\n",
            "Epoch 73/100\n",
            "1563/1563 [==============================] - 6s 4ms/step - loss: 0.5414 - sparse_categorical_accuracy: 0.8079\n",
            "Epoch 74/100\n",
            "1563/1563 [==============================] - 6s 4ms/step - loss: 0.5376 - sparse_categorical_accuracy: 0.8088\n",
            "Epoch 75/100\n",
            "1563/1563 [==============================] - 6s 4ms/step - loss: 0.5355 - sparse_categorical_accuracy: 0.8106\n",
            "Epoch 76/100\n",
            "1563/1563 [==============================] - 6s 4ms/step - loss: 0.5354 - sparse_categorical_accuracy: 0.8109\n",
            "Epoch 77/100\n",
            "1563/1563 [==============================] - 6s 4ms/step - loss: 0.5344 - sparse_categorical_accuracy: 0.8094\n",
            "Epoch 78/100\n",
            "1563/1563 [==============================] - 6s 4ms/step - loss: 0.5314 - sparse_categorical_accuracy: 0.8107\n",
            "Epoch 79/100\n",
            "1563/1563 [==============================] - 6s 4ms/step - loss: 0.5287 - sparse_categorical_accuracy: 0.8125\n",
            "Epoch 80/100\n",
            "1563/1563 [==============================] - 6s 4ms/step - loss: 0.5311 - sparse_categorical_accuracy: 0.8113\n",
            "Epoch 81/100\n",
            "1563/1563 [==============================] - 6s 4ms/step - loss: 0.5258 - sparse_categorical_accuracy: 0.8130\n",
            "Epoch 82/100\n",
            "1563/1563 [==============================] - 6s 4ms/step - loss: 0.5242 - sparse_categorical_accuracy: 0.8131\n",
            "Epoch 83/100\n",
            "1563/1563 [==============================] - 6s 4ms/step - loss: 0.5214 - sparse_categorical_accuracy: 0.8152\n",
            "Epoch 84/100\n",
            "1563/1563 [==============================] - 6s 4ms/step - loss: 0.5201 - sparse_categorical_accuracy: 0.8151\n",
            "Epoch 85/100\n",
            "1563/1563 [==============================] - 6s 4ms/step - loss: 0.5202 - sparse_categorical_accuracy: 0.8163\n",
            "Epoch 86/100\n",
            "1563/1563 [==============================] - 6s 4ms/step - loss: 0.5167 - sparse_categorical_accuracy: 0.8168\n",
            "Epoch 87/100\n",
            "1563/1563 [==============================] - 6s 4ms/step - loss: 0.5116 - sparse_categorical_accuracy: 0.8193\n",
            "Epoch 88/100\n",
            "1563/1563 [==============================] - 6s 4ms/step - loss: 0.5122 - sparse_categorical_accuracy: 0.8164\n",
            "Epoch 89/100\n",
            "1563/1563 [==============================] - 6s 4ms/step - loss: 0.5130 - sparse_categorical_accuracy: 0.8164\n",
            "Epoch 90/100\n",
            "1563/1563 [==============================] - 6s 4ms/step - loss: 0.5079 - sparse_categorical_accuracy: 0.8183\n",
            "Epoch 91/100\n",
            "1563/1563 [==============================] - 6s 4ms/step - loss: 0.5046 - sparse_categorical_accuracy: 0.8208\n",
            "Epoch 92/100\n",
            "1563/1563 [==============================] - 6s 4ms/step - loss: 0.5038 - sparse_categorical_accuracy: 0.8214\n",
            "Epoch 93/100\n",
            "1563/1563 [==============================] - 6s 4ms/step - loss: 0.5028 - sparse_categorical_accuracy: 0.8205\n",
            "Epoch 94/100\n",
            "1563/1563 [==============================] - 6s 4ms/step - loss: 0.5017 - sparse_categorical_accuracy: 0.8195\n",
            "Epoch 95/100\n",
            "1563/1563 [==============================] - 6s 4ms/step - loss: 0.5009 - sparse_categorical_accuracy: 0.8227\n",
            "Epoch 96/100\n",
            "1563/1563 [==============================] - 6s 4ms/step - loss: 0.4974 - sparse_categorical_accuracy: 0.8224\n",
            "Epoch 97/100\n",
            "1563/1563 [==============================] - 6s 4ms/step - loss: 0.4972 - sparse_categorical_accuracy: 0.8218\n",
            "Epoch 98/100\n",
            "1563/1563 [==============================] - 6s 4ms/step - loss: 0.4961 - sparse_categorical_accuracy: 0.8230\n",
            "Epoch 99/100\n",
            "1563/1563 [==============================] - 6s 4ms/step - loss: 0.4937 - sparse_categorical_accuracy: 0.8227\n",
            "Epoch 100/100\n",
            "1563/1563 [==============================] - 6s 4ms/step - loss: 0.4921 - sparse_categorical_accuracy: 0.8238\n"
          ],
          "name": "stdout"
        },
        {
          "output_type": "execute_result",
          "data": {
            "text/plain": [
              "<tensorflow.python.keras.callbacks.History at 0x7f6e9004a150>"
            ]
          },
          "metadata": {
            "tags": []
          },
          "execution_count": 0
        }
      ]
    },
    {
      "cell_type": "code",
      "metadata": {
        "id": "TCUHwxMqiP8o",
        "colab": {
          "base_uri": "https://localhost:8080/"
        },
        "outputId": "cc4f8306-f837-4a3a-bfca-40d74f7a907b"
      },
      "source": [
        "\n",
        "#cifar10_model.fit(X_train,y_train,epochs=50)"
      ],
      "execution_count": null,
      "outputs": [
        {
          "output_type": "stream",
          "text": [
            "Epoch 1/50\n",
            "1563/1563 [==============================] - 6s 4ms/step - loss: 0.4729 - sparse_categorical_accuracy: 0.8311\n",
            "Epoch 2/50\n",
            "1563/1563 [==============================] - 6s 4ms/step - loss: 0.4703 - sparse_categorical_accuracy: 0.8326\n",
            "Epoch 3/50\n",
            "1563/1563 [==============================] - 6s 4ms/step - loss: 0.4706 - sparse_categorical_accuracy: 0.8314\n",
            "Epoch 4/50\n",
            "1563/1563 [==============================] - 6s 4ms/step - loss: 0.4700 - sparse_categorical_accuracy: 0.8320\n",
            "Epoch 5/50\n",
            "1563/1563 [==============================] - 6s 4ms/step - loss: 0.4706 - sparse_categorical_accuracy: 0.8313\n",
            "Epoch 6/50\n",
            "1563/1563 [==============================] - 6s 4ms/step - loss: 0.4675 - sparse_categorical_accuracy: 0.8318\n",
            "Epoch 7/50\n",
            "1563/1563 [==============================] - 6s 4ms/step - loss: 0.4681 - sparse_categorical_accuracy: 0.8331\n",
            "Epoch 8/50\n",
            "1563/1563 [==============================] - 6s 4ms/step - loss: 0.4683 - sparse_categorical_accuracy: 0.8311\n",
            "Epoch 9/50\n",
            "1563/1563 [==============================] - 6s 4ms/step - loss: 0.4600 - sparse_categorical_accuracy: 0.8352\n",
            "Epoch 10/50\n",
            "1563/1563 [==============================] - 6s 4ms/step - loss: 0.4596 - sparse_categorical_accuracy: 0.8359\n",
            "Epoch 11/50\n",
            "1563/1563 [==============================] - 6s 4ms/step - loss: 0.4636 - sparse_categorical_accuracy: 0.8333\n",
            "Epoch 12/50\n",
            "1563/1563 [==============================] - 6s 4ms/step - loss: 0.4613 - sparse_categorical_accuracy: 0.8350\n",
            "Epoch 13/50\n",
            "1563/1563 [==============================] - 6s 4ms/step - loss: 0.4551 - sparse_categorical_accuracy: 0.8367\n",
            "Epoch 14/50\n",
            "1563/1563 [==============================] - 6s 4ms/step - loss: 0.4544 - sparse_categorical_accuracy: 0.8370\n",
            "Epoch 15/50\n",
            "1563/1563 [==============================] - 6s 4ms/step - loss: 0.4575 - sparse_categorical_accuracy: 0.8350\n",
            "Epoch 16/50\n",
            "1563/1563 [==============================] - 6s 4ms/step - loss: 0.4547 - sparse_categorical_accuracy: 0.8363\n",
            "Epoch 17/50\n",
            "1563/1563 [==============================] - 6s 4ms/step - loss: 0.4535 - sparse_categorical_accuracy: 0.8373\n",
            "Epoch 18/50\n",
            "1563/1563 [==============================] - 6s 4ms/step - loss: 0.4514 - sparse_categorical_accuracy: 0.8374\n",
            "Epoch 19/50\n",
            "1563/1563 [==============================] - 6s 4ms/step - loss: 0.4502 - sparse_categorical_accuracy: 0.8372\n",
            "Epoch 20/50\n",
            "1563/1563 [==============================] - 6s 4ms/step - loss: 0.4475 - sparse_categorical_accuracy: 0.8390\n",
            "Epoch 21/50\n",
            "1563/1563 [==============================] - 6s 4ms/step - loss: 0.4514 - sparse_categorical_accuracy: 0.8376\n",
            "Epoch 22/50\n",
            "1563/1563 [==============================] - 6s 4ms/step - loss: 0.4457 - sparse_categorical_accuracy: 0.8396\n",
            "Epoch 23/50\n",
            "1563/1563 [==============================] - 6s 4ms/step - loss: 0.4455 - sparse_categorical_accuracy: 0.8404\n",
            "Epoch 24/50\n",
            "1563/1563 [==============================] - 6s 4ms/step - loss: 0.4429 - sparse_categorical_accuracy: 0.8414\n",
            "Epoch 25/50\n",
            "1563/1563 [==============================] - 6s 4ms/step - loss: 0.4427 - sparse_categorical_accuracy: 0.8403\n",
            "Epoch 26/50\n",
            "1563/1563 [==============================] - 6s 4ms/step - loss: 0.4466 - sparse_categorical_accuracy: 0.8400\n",
            "Epoch 27/50\n",
            "1563/1563 [==============================] - 6s 4ms/step - loss: 0.4383 - sparse_categorical_accuracy: 0.8428\n",
            "Epoch 28/50\n",
            "1563/1563 [==============================] - 6s 4ms/step - loss: 0.4385 - sparse_categorical_accuracy: 0.8435\n",
            "Epoch 29/50\n",
            "1563/1563 [==============================] - 6s 4ms/step - loss: 0.4403 - sparse_categorical_accuracy: 0.8392\n",
            "Epoch 30/50\n",
            "1563/1563 [==============================] - 6s 4ms/step - loss: 0.4438 - sparse_categorical_accuracy: 0.8405\n",
            "Epoch 31/50\n",
            "1563/1563 [==============================] - 6s 4ms/step - loss: 0.4334 - sparse_categorical_accuracy: 0.8440\n",
            "Epoch 32/50\n",
            "1563/1563 [==============================] - 6s 4ms/step - loss: 0.4324 - sparse_categorical_accuracy: 0.8442\n",
            "Epoch 33/50\n",
            "1563/1563 [==============================] - 6s 4ms/step - loss: 0.4330 - sparse_categorical_accuracy: 0.8433\n",
            "Epoch 34/50\n",
            "1563/1563 [==============================] - 6s 4ms/step - loss: 0.4358 - sparse_categorical_accuracy: 0.8429\n",
            "Epoch 35/50\n",
            "1563/1563 [==============================] - 6s 4ms/step - loss: 0.4301 - sparse_categorical_accuracy: 0.8454\n",
            "Epoch 36/50\n",
            "1563/1563 [==============================] - 6s 4ms/step - loss: 0.4299 - sparse_categorical_accuracy: 0.8459\n",
            "Epoch 37/50\n",
            "1563/1563 [==============================] - 6s 4ms/step - loss: 0.4339 - sparse_categorical_accuracy: 0.8433\n",
            "Epoch 38/50\n",
            "1563/1563 [==============================] - 6s 4ms/step - loss: 0.4277 - sparse_categorical_accuracy: 0.8442\n",
            "Epoch 39/50\n",
            "1563/1563 [==============================] - 6s 4ms/step - loss: 0.4301 - sparse_categorical_accuracy: 0.8461\n",
            "Epoch 40/50\n",
            "1563/1563 [==============================] - 6s 4ms/step - loss: 0.4247 - sparse_categorical_accuracy: 0.8472\n",
            "Epoch 41/50\n",
            "1563/1563 [==============================] - 6s 4ms/step - loss: 0.4276 - sparse_categorical_accuracy: 0.8456\n",
            "Epoch 42/50\n",
            "1563/1563 [==============================] - 6s 4ms/step - loss: 0.4226 - sparse_categorical_accuracy: 0.8469\n",
            "Epoch 43/50\n",
            "1563/1563 [==============================] - 6s 4ms/step - loss: 0.4213 - sparse_categorical_accuracy: 0.8477\n",
            "Epoch 44/50\n",
            "1563/1563 [==============================] - 6s 4ms/step - loss: 0.4234 - sparse_categorical_accuracy: 0.8476\n",
            "Epoch 45/50\n",
            "1563/1563 [==============================] - 6s 4ms/step - loss: 0.4224 - sparse_categorical_accuracy: 0.8468\n",
            "Epoch 46/50\n",
            "1563/1563 [==============================] - 6s 4ms/step - loss: 0.4190 - sparse_categorical_accuracy: 0.8487\n",
            "Epoch 47/50\n",
            "1563/1563 [==============================] - 6s 4ms/step - loss: 0.4193 - sparse_categorical_accuracy: 0.8483\n",
            "Epoch 48/50\n",
            "1563/1563 [==============================] - 6s 4ms/step - loss: 0.4161 - sparse_categorical_accuracy: 0.8490\n",
            "Epoch 49/50\n",
            "1563/1563 [==============================] - 6s 4ms/step - loss: 0.4156 - sparse_categorical_accuracy: 0.8490\n",
            "Epoch 50/50\n",
            "1563/1563 [==============================] - 6s 4ms/step - loss: 0.4183 - sparse_categorical_accuracy: 0.8491\n"
          ],
          "name": "stdout"
        },
        {
          "output_type": "execute_result",
          "data": {
            "text/plain": [
              "<tensorflow.python.keras.callbacks.History at 0x7f6dedbf8ad0>"
            ]
          },
          "metadata": {
            "tags": []
          },
          "execution_count": 34
        }
      ]
    },
    {
      "cell_type": "code",
      "metadata": {
        "colab": {
          "base_uri": "https://localhost:8080/"
        },
        "id": "QUbpQHg4lSSj",
        "outputId": "9bf6569f-8897-4fae-b96d-9167acc861f1"
      },
      "source": [
        "cifar10_model.evaluate(X_test, y_test)"
      ],
      "execution_count": null,
      "outputs": [
        {
          "output_type": "stream",
          "text": [
            "313/313 [==============================] - 1s 3ms/step - loss: 1.4888 - sparse_categorical_accuracy: 0.6516\n"
          ],
          "name": "stdout"
        },
        {
          "output_type": "execute_result",
          "data": {
            "text/plain": [
              "[1.488828182220459, 0.6516000032424927]"
            ]
          },
          "metadata": {
            "tags": []
          },
          "execution_count": 35
        }
      ]
    },
    {
      "cell_type": "code",
      "metadata": {
        "colab": {
          "base_uri": "https://localhost:8080/",
          "height": 284
        },
        "id": "-Uf7d7qDm8SF",
        "outputId": "1ad14651-601d-4603-bb91-81659d15e94f"
      },
      "source": [
        "plt.imshow(X_train[0])"
      ],
      "execution_count": 19,
      "outputs": [
        {
          "output_type": "execute_result",
          "data": {
            "text/plain": [
              "<matplotlib.image.AxesImage at 0x7fc480466950>"
            ]
          },
          "metadata": {
            "tags": []
          },
          "execution_count": 19
        },
        {
          "output_type": "display_data",
          "data": {
            "image/png": "[encoded data removed]",
            "text/plain": [
              "<Figure size 432x288 with 1 Axes>"
            ]
          },
          "metadata": {
            "tags": [],
            "needs_background": "light"
          }
        }
      ]
    },
    {
      "cell_type": "code",
      "metadata": {
        "colab": {
          "base_uri": "https://localhost:8080/",
          "height": 284
        },
        "id": "YUZf4LjUnJBF",
        "outputId": "3ae6d236-2fd6-4543-dc9f-f7d16d0d727f"
      },
      "source": [
        "plt.imshow(X_train[900])"
      ],
      "execution_count": 20,
      "outputs": [
        {
          "output_type": "execute_result",
          "data": {
            "text/plain": [
              "<matplotlib.image.AxesImage at 0x7fc480183dd0>"
            ]
          },
          "metadata": {
            "tags": []
          },
          "execution_count": 20
        },
        {
          "output_type": "display_data",
          "data": {
            "image/png": "[encoded data removed]",
            "text/plain": [
              "<Figure size 432x288 with 1 Axes>"
            ]
          },
          "metadata": {
            "tags": [],
            "needs_background": "light"
          }
        }
      ]
    },
    {
      "cell_type": "code",
      "metadata": {
        "colab": {
          "base_uri": "https://localhost:8080/",
          "height": 284
        },
        "id": "mHRYTBbtnNiN",
        "outputId": "3f7d0020-a3cd-41f0-d02d-9dd764d80c6f"
      },
      "source": [
        "plt.imshow(X_test[87])"
      ],
      "execution_count": 21,
      "outputs": [
        {
          "output_type": "execute_result",
          "data": {
            "text/plain": [
              "<matplotlib.image.AxesImage at 0x7fc4800f9b10>"
            ]
          },
          "metadata": {
            "tags": []
          },
          "execution_count": 21
        },
        {
          "output_type": "display_data",
          "data": {
            "image/png": "[encoded data removed]",
            "text/plain": [
              "<Figure size 432x288 with 1 Axes>"
            ]
          },
          "metadata": {
            "tags": [],
            "needs_background": "light"
          }
        }
      ]
    },
    {
      "cell_type": "code",
      "metadata": {
        "colab": {
          "base_uri": "https://localhost:8080/",
          "height": 282
        },
        "id": "pp-lnGK_nRmV",
        "outputId": "f0e4e79b-a3fb-4a23-fc8d-627b173bf60a"
      },
      "source": [
        "plt.imshow(y_train[[90]])"
      ],
      "execution_count": 22,
      "outputs": [
        {
          "output_type": "execute_result",
          "data": {
            "text/plain": [
              "<matplotlib.image.AxesImage at 0x7fc48006e210>"
            ]
          },
          "metadata": {
            "tags": []
          },
          "execution_count": 22
        },
        {
          "output_type": "display_data",
          "data": {
            "image/png": "[encoded data removed]",
            "text/plain": [
              "<Figure size 432x288 with 1 Axes>"
            ]
          },
          "metadata": {
            "tags": [],
            "needs_background": "light"
          }
        }
      ]
    },
    {
      "cell_type": "code",
      "metadata": {
        "colab": {
          "base_uri": "https://localhost:8080/",
          "height": 284
        },
        "id": "7XJymOb3nXCU",
        "outputId": "da6dc4e7-1571-468e-a932-8859361336e7"
      },
      "source": [
        "plt.imshow(X_test[25])"
      ],
      "execution_count": 23,
      "outputs": [
        {
          "output_type": "execute_result",
          "data": {
            "text/plain": [
              "<matplotlib.image.AxesImage at 0x7fc480055150>"
            ]
          },
          "metadata": {
            "tags": []
          },
          "execution_count": 23
        },
        {
          "output_type": "display_data",
          "data": {
            "image/png": "[encoded data removed]",
            "text/plain": [
              "<Figure size 432x288 with 1 Axes>"
            ]
          },
          "metadata": {
            "tags": [],
            "needs_background": "light"
          }
        }
      ]
    },
    {
      "cell_type": "code",
      "metadata": {
        "id": "GNPn_Tyvnmz9",
        "colab": {
          "base_uri": "https://localhost:8080/"
        },
        "outputId": "8612c162-9bcd-48fa-8a1a-eedddd8d11a6"
      },
      "source": [
        "X_train.shape"
      ],
      "execution_count": 25,
      "outputs": [
        {
          "output_type": "execute_result",
          "data": {
            "text/plain": [
              "(50000, 32, 32, 3)"
            ]
          },
          "metadata": {
            "tags": []
          },
          "execution_count": 25
        }
      ]
    },
    {
      "cell_type": "markdown",
      "metadata": {
        "id": "tHsqXzw6UV1X"
      },
      "source": [
        "I want to predict the first image belongs to which class ?"
      ]
    },
    {
      "cell_type": "code",
      "metadata": {
        "colab": {
          "base_uri": "https://localhost:8080/"
        },
        "id": "uQbLsPwYTnX9",
        "outputId": "e016ab8a-6456-4cfe-e444-442a6e39e180"
      },
      "source": [
        "y_train[0]            # i know it belongs to class 6"
      ],
      "execution_count": 35,
      "outputs": [
        {
          "output_type": "execute_result",
          "data": {
            "text/plain": [
              "array([6], dtype=uint8)"
            ]
          },
          "metadata": {
            "tags": []
          },
          "execution_count": 35
        }
      ]
    },
    {
      "cell_type": "markdown",
      "metadata": {
        "id": "CY-_lwgvUtsc"
      },
      "source": [
        "I predict the output"
      ]
    },
    {
      "cell_type": "code",
      "metadata": {
        "id": "P8FjlBDXTaPH"
      },
      "source": [
        "X_new = X_train[0]"
      ],
      "execution_count": 27,
      "outputs": []
    },
    {
      "cell_type": "code",
      "metadata": {
        "colab": {
          "base_uri": "https://localhost:8080/"
        },
        "id": "gWZIuC21TgVu",
        "outputId": "6ac4050e-7827-48f9-de0e-dc64e068a9d3"
      },
      "source": [
        "y_pred = cifar10_model.predict_classes(X_train[0:1:1])"
      ],
      "execution_count": 33,
      "outputs": [
        {
          "output_type": "stream",
          "text": [
            "/usr/local/lib/python3.7/dist-packages/tensorflow/python/keras/engine/sequential.py:455: UserWarning: `model.predict_classes()` is deprecated and will be removed after 2021-01-01. Please use instead:* `np.argmax(model.predict(x), axis=-1)`,   if your model does multi-class classification   (e.g. if it uses a `softmax` last-layer activation).* `(model.predict(x) > 0.5).astype(\"int32\")`,   if your model does binary classification   (e.g. if it uses a `sigmoid` last-layer activation).\n",
            "  warnings.warn('`model.predict_classes()` is deprecated and '\n"
          ],
          "name": "stderr"
        }
      ]
    },
    {
      "cell_type": "code",
      "metadata": {
        "colab": {
          "base_uri": "https://localhost:8080/"
        },
        "id": "KfUR7As4T6_4",
        "outputId": "fd19aec6-2577-46de-e18e-821df1d64a49"
      },
      "source": [
        "y_pred           # my prediction is correct because my model give me correct result"
      ],
      "execution_count": 36,
      "outputs": [
        {
          "output_type": "execute_result",
          "data": {
            "text/plain": [
              "array([6])"
            ]
          },
          "metadata": {
            "tags": []
          },
          "execution_count": 36
        }
      ]
    },
    {
      "cell_type": "code",
      "metadata": {
        "id": "EqwKfpBXUOqu"
      },
      "source": [
        "import numpy as np\n"
      ],
      "execution_count": 37,
      "outputs": []
    },
    {
      "cell_type": "code",
      "metadata": {
        "colab": {
          "base_uri": "https://localhost:8080/"
        },
        "id": "vG8FH1rjVQNT",
        "outputId": "546dc26d-bb91-4049-a7cf-9f911439448a"
      },
      "source": [
        "np.array(class_names)[y_pred]"
      ],
      "execution_count": 38,
      "outputs": [
        {
          "output_type": "execute_result",
          "data": {
            "text/plain": [
              "array(['frog'], dtype='<U10')"
            ]
          },
          "metadata": {
            "tags": []
          },
          "execution_count": 38
        }
      ]
    },
    {
      "cell_type": "code",
      "metadata": {
        "colab": {
          "base_uri": "https://localhost:8080/",
          "height": 935
        },
        "id": "CZTORfHhVWxL",
        "outputId": "cd2f4595-b590-441c-dac7-0eb7765a0d82"
      },
      "source": [
        "plt.figure(figsize=(50,20))\n",
        "plt.imshow(X_train[0])"
      ],
      "execution_count": 42,
      "outputs": [
        {
          "output_type": "execute_result",
          "data": {
            "text/plain": [
              "<matplotlib.image.AxesImage at 0x7fc3a47ec610>"
            ]
          },
          "metadata": {
            "tags": []
          },
          "execution_count": 42
        },
        {
          "output_type": "display_data",
          "data": {
            "image/png": "[encoded data removed]",
            "text/plain": [
              "<Figure size 3600x1440 with 1 Axes>"
            ]
          },
          "metadata": {
            "tags": [],
            "needs_background": "light"
          }
        }
      ]
    },
    {
      "cell_type": "code",
      "metadata": {
        "id": "XW33TRtVVezA"
      },
      "source": [
        ""
      ],
      "execution_count": null,
      "outputs": []
    }
  ]
}