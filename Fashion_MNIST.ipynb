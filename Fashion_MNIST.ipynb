{
  "nbformat": 4,
  "nbformat_minor": 0,
  "metadata": {
    "colab": {
      "name": "Fashion_MNIST.ipynb",
      "provenance": [],
      "collapsed_sections": [],
      "authorship_tag": "ABX9TyPr+47V/icvVRdBVf6ritBk",
      "include_colab_link": true
    },
    "kernelspec": {
      "name": "python3",
      "display_name": "Python 3"
    },
    "language_info": {
      "name": "python"
    },
    "accelerator": "GPU"
  },
  "cells": [
    {
      "cell_type": "markdown",
      "metadata": {
        "id": "view-in-github",
        "colab_type": "text"
      },
      "source": [
        "<a href=\"https://colab.research.google.com/github/bittoob/first_project/blob/main/Fashion_MNIST.ipynb\" target=\"_parent\"><img src=\"https://colab.research.google.com/assets/colab-badge.svg\" alt=\"Open In Colab\"/></a>"
      ]
    },
    {
      "cell_type": "code",
      "metadata": {
        "id": "55iLSngAvygC"
      },
      "source": [
        "from tensorflow import keras"
      ],
      "execution_count": 1,
      "outputs": []
    },
    {
      "cell_type": "code",
      "metadata": {
        "id": "F4TX_FjnwAae"
      },
      "source": [
        ""
      ],
      "execution_count": null,
      "outputs": []
    },
    {
      "cell_type": "markdown",
      "metadata": {
        "id": "B9Tnc5LswG61"
      },
      "source": [
        "Using Keras to load Dataset"
      ]
    },
    {
      "cell_type": "code",
      "metadata": {
        "colab": {
          "base_uri": "https://localhost:8080/"
        },
        "id": "L0DZsQ7GwJr8",
        "outputId": "2a3e285d-fa60-4dd7-a3b6-7b0749b97401"
      },
      "source": [
        "fashion_mnist = keras.datasets.fashion_mnist\n",
        "\n",
        "(X_train_full, y_train_full), (X_test, y_test) = fashion_mnist.load_data()"
      ],
      "execution_count": 2,
      "outputs": [
        {
          "output_type": "stream",
          "text": [
            "Downloading data from https://storage.googleapis.com/tensorflow/tf-keras-datasets/train-labels-idx1-ubyte.gz\n",
            "32768/29515 [=================================] - 0s 0us/step\n",
            "Downloading data from https://storage.googleapis.com/tensorflow/tf-keras-datasets/train-images-idx3-ubyte.gz\n",
            "26427392/26421880 [==============================] - 0s 0us/step\n",
            "Downloading data from https://storage.googleapis.com/tensorflow/tf-keras-datasets/t10k-labels-idx1-ubyte.gz\n",
            "8192/5148 [===============================================] - 0s 0us/step\n",
            "Downloading data from https://storage.googleapis.com/tensorflow/tf-keras-datasets/t10k-images-idx3-ubyte.gz\n",
            "4423680/4422102 [==============================] - 0s 0us/step\n"
          ],
          "name": "stdout"
        }
      ]
    },
    {
      "cell_type": "code",
      "metadata": {
        "colab": {
          "base_uri": "https://localhost:8080/"
        },
        "id": "IsBANlJ9wwea",
        "outputId": "6b7ddb4c-08ba-4bb0-d035-49beb021b5fb"
      },
      "source": [
        "X_train_full"
      ],
      "execution_count": 3,
      "outputs": [
        {
          "output_type": "execute_result",
          "data": {
            "text/plain": [
              "array([[[0, 0, 0, ..., 0, 0, 0],\n",
              "        [0, 0, 0, ..., 0, 0, 0],\n",
              "        [0, 0, 0, ..., 0, 0, 0],\n",
              "        ...,\n",
              "        [0, 0, 0, ..., 0, 0, 0],\n",
              "        [0, 0, 0, ..., 0, 0, 0],\n",
              "        [0, 0, 0, ..., 0, 0, 0]],\n",
              "\n",
              "       [[0, 0, 0, ..., 0, 0, 0],\n",
              "        [0, 0, 0, ..., 0, 0, 0],\n",
              "        [0, 0, 0, ..., 0, 0, 0],\n",
              "        ...,\n",
              "        [0, 0, 0, ..., 0, 0, 0],\n",
              "        [0, 0, 0, ..., 0, 0, 0],\n",
              "        [0, 0, 0, ..., 0, 0, 0]],\n",
              "\n",
              "       [[0, 0, 0, ..., 0, 0, 0],\n",
              "        [0, 0, 0, ..., 0, 0, 0],\n",
              "        [0, 0, 0, ..., 0, 0, 0],\n",
              "        ...,\n",
              "        [0, 0, 0, ..., 0, 0, 0],\n",
              "        [0, 0, 0, ..., 0, 0, 0],\n",
              "        [0, 0, 0, ..., 0, 0, 0]],\n",
              "\n",
              "       ...,\n",
              "\n",
              "       [[0, 0, 0, ..., 0, 0, 0],\n",
              "        [0, 0, 0, ..., 0, 0, 0],\n",
              "        [0, 0, 0, ..., 0, 0, 0],\n",
              "        ...,\n",
              "        [0, 0, 0, ..., 0, 0, 0],\n",
              "        [0, 0, 0, ..., 0, 0, 0],\n",
              "        [0, 0, 0, ..., 0, 0, 0]],\n",
              "\n",
              "       [[0, 0, 0, ..., 0, 0, 0],\n",
              "        [0, 0, 0, ..., 0, 0, 0],\n",
              "        [0, 0, 0, ..., 0, 0, 0],\n",
              "        ...,\n",
              "        [0, 0, 0, ..., 0, 0, 0],\n",
              "        [0, 0, 0, ..., 0, 0, 0],\n",
              "        [0, 0, 0, ..., 0, 0, 0]],\n",
              "\n",
              "       [[0, 0, 0, ..., 0, 0, 0],\n",
              "        [0, 0, 0, ..., 0, 0, 0],\n",
              "        [0, 0, 0, ..., 0, 0, 0],\n",
              "        ...,\n",
              "        [0, 0, 0, ..., 0, 0, 0],\n",
              "        [0, 0, 0, ..., 0, 0, 0],\n",
              "        [0, 0, 0, ..., 0, 0, 0]]], dtype=uint8)"
            ]
          },
          "metadata": {
            "tags": []
          },
          "execution_count": 3
        }
      ]
    },
    {
      "cell_type": "code",
      "metadata": {
        "colab": {
          "base_uri": "https://localhost:8080/"
        },
        "id": "YkRBse4Yw6tA",
        "outputId": "7b5b69e0-f7a9-495a-860a-db75f7a14424"
      },
      "source": [
        "X_test"
      ],
      "execution_count": 4,
      "outputs": [
        {
          "output_type": "execute_result",
          "data": {
            "text/plain": [
              "array([[[0, 0, 0, ..., 0, 0, 0],\n",
              "        [0, 0, 0, ..., 0, 0, 0],\n",
              "        [0, 0, 0, ..., 0, 0, 0],\n",
              "        ...,\n",
              "        [0, 0, 0, ..., 0, 0, 0],\n",
              "        [0, 0, 0, ..., 0, 0, 0],\n",
              "        [0, 0, 0, ..., 0, 0, 0]],\n",
              "\n",
              "       [[0, 0, 0, ..., 0, 0, 0],\n",
              "        [0, 0, 0, ..., 0, 0, 0],\n",
              "        [0, 0, 0, ..., 0, 0, 0],\n",
              "        ...,\n",
              "        [0, 0, 0, ..., 0, 0, 0],\n",
              "        [0, 0, 0, ..., 0, 0, 0],\n",
              "        [0, 0, 0, ..., 0, 0, 0]],\n",
              "\n",
              "       [[0, 0, 0, ..., 0, 0, 0],\n",
              "        [0, 0, 0, ..., 0, 0, 0],\n",
              "        [0, 0, 0, ..., 0, 0, 0],\n",
              "        ...,\n",
              "        [0, 0, 0, ..., 0, 0, 0],\n",
              "        [0, 0, 0, ..., 0, 0, 0],\n",
              "        [0, 0, 0, ..., 0, 0, 0]],\n",
              "\n",
              "       ...,\n",
              "\n",
              "       [[0, 0, 0, ..., 0, 0, 0],\n",
              "        [0, 0, 0, ..., 0, 0, 0],\n",
              "        [0, 0, 0, ..., 0, 0, 0],\n",
              "        ...,\n",
              "        [0, 0, 0, ..., 0, 0, 0],\n",
              "        [0, 0, 0, ..., 0, 0, 0],\n",
              "        [0, 0, 0, ..., 0, 0, 0]],\n",
              "\n",
              "       [[0, 0, 0, ..., 0, 0, 0],\n",
              "        [0, 0, 0, ..., 0, 0, 0],\n",
              "        [0, 0, 0, ..., 0, 0, 0],\n",
              "        ...,\n",
              "        [0, 0, 0, ..., 0, 0, 0],\n",
              "        [0, 0, 0, ..., 0, 0, 0],\n",
              "        [0, 0, 0, ..., 0, 0, 0]],\n",
              "\n",
              "       [[0, 0, 0, ..., 0, 0, 0],\n",
              "        [0, 0, 0, ..., 0, 0, 0],\n",
              "        [0, 0, 0, ..., 0, 0, 0],\n",
              "        ...,\n",
              "        [0, 0, 0, ..., 0, 0, 0],\n",
              "        [0, 0, 0, ..., 0, 0, 0],\n",
              "        [0, 0, 0, ..., 0, 0, 0]]], dtype=uint8)"
            ]
          },
          "metadata": {
            "tags": []
          },
          "execution_count": 4
        }
      ]
    },
    {
      "cell_type": "code",
      "metadata": {
        "colab": {
          "base_uri": "https://localhost:8080/"
        },
        "id": "Wa2hdufXxEwo",
        "outputId": "25fd870e-aefd-44cf-8b80-dc8f8599bbb2"
      },
      "source": [
        "y_train_full"
      ],
      "execution_count": 5,
      "outputs": [
        {
          "output_type": "execute_result",
          "data": {
            "text/plain": [
              "array([9, 0, 0, ..., 3, 0, 5], dtype=uint8)"
            ]
          },
          "metadata": {
            "tags": []
          },
          "execution_count": 5
        }
      ]
    },
    {
      "cell_type": "code",
      "metadata": {
        "colab": {
          "base_uri": "https://localhost:8080/"
        },
        "id": "KcMIJp8FxCD3",
        "outputId": "b3a65450-2e08-44c1-8443-7f7a1c682d58"
      },
      "source": [
        "y_test"
      ],
      "execution_count": 7,
      "outputs": [
        {
          "output_type": "execute_result",
          "data": {
            "text/plain": [
              "array([9, 2, 1, ..., 8, 1, 5], dtype=uint8)"
            ]
          },
          "metadata": {
            "tags": []
          },
          "execution_count": 7
        }
      ]
    },
    {
      "cell_type": "code",
      "metadata": {
        "colab": {
          "base_uri": "https://localhost:8080/"
        },
        "id": "rmylaiR9xNe9",
        "outputId": "a7de074a-85c5-4998-af3f-138a22809bf4"
      },
      "source": [
        "X_train_full.shape    # shape of training dataset -> 60,000 rows and 28 * 28 of 2D array"
      ],
      "execution_count": 8,
      "outputs": [
        {
          "output_type": "execute_result",
          "data": {
            "text/plain": [
              "(60000, 28, 28)"
            ]
          },
          "metadata": {
            "tags": []
          },
          "execution_count": 8
        }
      ]
    },
    {
      "cell_type": "code",
      "metadata": {
        "colab": {
          "base_uri": "https://localhost:8080/"
        },
        "id": "jBGAXBaWxV7N",
        "outputId": "3891b4f1-ecdf-40a5-fc18-e895216d43b9"
      },
      "source": [
        "y_train_full.shape"
      ],
      "execution_count": 9,
      "outputs": [
        {
          "output_type": "execute_result",
          "data": {
            "text/plain": [
              "(60000,)"
            ]
          },
          "metadata": {
            "tags": []
          },
          "execution_count": 9
        }
      ]
    },
    {
      "cell_type": "code",
      "metadata": {
        "colab": {
          "base_uri": "https://localhost:8080/"
        },
        "id": "EZNsxKTMxZBF",
        "outputId": "3a710594-cadd-4184-cd50-40cbeb7ac36c"
      },
      "source": [
        "X_test.shape    # shape of testing dataset -> 10,000 rows and 28 * 28 of 2D array"
      ],
      "execution_count": 13,
      "outputs": [
        {
          "output_type": "execute_result",
          "data": {
            "text/plain": [
              "(10000, 28, 28)"
            ]
          },
          "metadata": {
            "tags": []
          },
          "execution_count": 13
        }
      ]
    },
    {
      "cell_type": "code",
      "metadata": {
        "colab": {
          "base_uri": "https://localhost:8080/"
        },
        "id": "A7UM68MPxa0C",
        "outputId": "c7c85687-455f-4746-9ef8-6143336b3135"
      },
      "source": [
        "y_test.shape"
      ],
      "execution_count": 14,
      "outputs": [
        {
          "output_type": "execute_result",
          "data": {
            "text/plain": [
              "(10000,)"
            ]
          },
          "metadata": {
            "tags": []
          },
          "execution_count": 14
        }
      ]
    },
    {
      "cell_type": "markdown",
      "metadata": {
        "id": "7GxjlBdTzXLW"
      },
      "source": [
        "We split the dataset into training and testing, but now we have to also split into validation dataset."
      ]
    },
    {
      "cell_type": "code",
      "metadata": {
        "id": "4mrd4M0Ezz3N"
      },
      "source": [
        "X_valid = X_train_full[50000:] / 255.0\n",
        "y_valid = y_train_full[50000:]"
      ],
      "execution_count": 52,
      "outputs": []
    },
    {
      "cell_type": "markdown",
      "metadata": {
        "id": "dI1IzBo4z_ao"
      },
      "source": [
        "validation dataset -> 10,000 rows"
      ]
    },
    {
      "cell_type": "code",
      "metadata": {
        "colab": {
          "base_uri": "https://localhost:8080/"
        },
        "id": "ssZbUtIy0BG4",
        "outputId": "e1ef697a-ce5e-4125-c785-66a9cab128df"
      },
      "source": [
        "X_valid.shape"
      ],
      "execution_count": 19,
      "outputs": [
        {
          "output_type": "execute_result",
          "data": {
            "text/plain": [
              "(10000, 28, 28)"
            ]
          },
          "metadata": {
            "tags": []
          },
          "execution_count": 19
        }
      ]
    },
    {
      "cell_type": "markdown",
      "metadata": {
        "id": "EgjYmIT40VqN"
      },
      "source": [
        "Training dataset -> 50,000 rows"
      ]
    },
    {
      "cell_type": "code",
      "metadata": {
        "id": "Y6lPfempxluK"
      },
      "source": [
        "X_train = X_train_full[:50000] / 255.0\n",
        "y_train = y_train_full[:50000] "
      ],
      "execution_count": 53,
      "outputs": []
    },
    {
      "cell_type": "code",
      "metadata": {
        "colab": {
          "base_uri": "https://localhost:8080/"
        },
        "id": "vpuA9KYIzMK7",
        "outputId": "2ad2aacd-211d-40ad-d785-dd2d75e09fbf"
      },
      "source": [
        "X_train.shape"
      ],
      "execution_count": 27,
      "outputs": [
        {
          "output_type": "execute_result",
          "data": {
            "text/plain": [
              "(50000, 28, 28)"
            ]
          },
          "metadata": {
            "tags": []
          },
          "execution_count": 27
        }
      ]
    },
    {
      "cell_type": "markdown",
      "metadata": {
        "id": "1oaizy6o0kwl"
      },
      "source": [
        "Testing dataset -> 10,000 rows"
      ]
    },
    {
      "cell_type": "code",
      "metadata": {
        "colab": {
          "base_uri": "https://localhost:8080/"
        },
        "id": "ohelKRJEzN33",
        "outputId": "a6544c46-5e32-43b6-c9d4-1a72c5eeba94"
      },
      "source": [
        "X_test.shape"
      ],
      "execution_count": 23,
      "outputs": [
        {
          "output_type": "execute_result",
          "data": {
            "text/plain": [
              "(10000, 28, 28)"
            ]
          },
          "metadata": {
            "tags": []
          },
          "execution_count": 23
        }
      ]
    },
    {
      "cell_type": "markdown",
      "metadata": {
        "id": "XXV5GyDX0u-H"
      },
      "source": [
        "**Total dataset -> 70,000 rows**"
      ]
    },
    {
      "cell_type": "code",
      "metadata": {
        "id": "MAJ9kHQZ0gP0"
      },
      "source": [
        "import matplotlib.pyplot as plt"
      ],
      "execution_count": 30,
      "outputs": []
    },
    {
      "cell_type": "markdown",
      "metadata": {
        "id": "HU07F6UG2QlY"
      },
      "source": [
        "**First image of Training dataset**"
      ]
    },
    {
      "cell_type": "code",
      "metadata": {
        "colab": {
          "base_uri": "https://localhost:8080/",
          "height": 282
        },
        "id": "ClO6ofUv0tvE",
        "outputId": "f85951e1-a864-4e12-974f-7df66b501c77"
      },
      "source": [
        "plt.imshow(X_train[0])"
      ],
      "execution_count": 31,
      "outputs": [
        {
          "output_type": "execute_result",
          "data": {
            "text/plain": [
              "<matplotlib.image.AxesImage at 0x7f668cf1a610>"
            ]
          },
          "metadata": {
            "tags": []
          },
          "execution_count": 31
        },
        {
          "output_type": "display_data",
          "data": {
            "image/png": "[encoded data removed]",
            "text/plain": [
              "<Figure size 432x288 with 1 Axes>"
            ]
          },
          "metadata": {
            "tags": [],
            "needs_background": "light"
          }
        }
      ]
    },
    {
      "cell_type": "markdown",
      "metadata": {
        "id": "cs_Ak65c2bSw"
      },
      "source": [
        "**Third image of training dataset**"
      ]
    },
    {
      "cell_type": "code",
      "metadata": {
        "colab": {
          "base_uri": "https://localhost:8080/",
          "height": 282
        },
        "id": "-HEIddjA1_W8",
        "outputId": "19d755c3-709d-41ca-f12d-25cf8a01ad08"
      },
      "source": [
        "plt.imshow(X_train[2])"
      ],
      "execution_count": 32,
      "outputs": [
        {
          "output_type": "execute_result",
          "data": {
            "text/plain": [
              "<matplotlib.image.AxesImage at 0x7f668c9a7250>"
            ]
          },
          "metadata": {
            "tags": []
          },
          "execution_count": 32
        },
        {
          "output_type": "display_data",
          "data": {
            "image/png": "[encoded data removed]",
            "text/plain": [
              "<Figure size 432x288 with 1 Axes>"
            ]
          },
          "metadata": {
            "tags": [],
            "needs_background": "light"
          }
        }
      ]
    },
    {
      "cell_type": "markdown",
      "metadata": {
        "id": "RcPE1DZn2jc2"
      },
      "source": [
        "**First image of Validation dataset**"
      ]
    },
    {
      "cell_type": "code",
      "metadata": {
        "colab": {
          "base_uri": "https://localhost:8080/",
          "height": 282
        },
        "id": "PC_H5EHH2EQ0",
        "outputId": "c7833eef-65a6-471d-d6d9-59c1f0728f0e"
      },
      "source": [
        "plt.imshow(X_valid[0])"
      ],
      "execution_count": 34,
      "outputs": [
        {
          "output_type": "execute_result",
          "data": {
            "text/plain": [
              "<matplotlib.image.AxesImage at 0x7f668c8c9350>"
            ]
          },
          "metadata": {
            "tags": []
          },
          "execution_count": 34
        },
        {
          "output_type": "display_data",
          "data": {
            "image/png": "[encoded data removed]",
            "text/plain": [
              "<Figure size 432x288 with 1 Axes>"
            ]
          },
          "metadata": {
            "tags": [],
            "needs_background": "light"
          }
        }
      ]
    },
    {
      "cell_type": "markdown",
      "metadata": {
        "id": "4J-jt4Z72rj2"
      },
      "source": [
        "**First image of testing dataset**"
      ]
    },
    {
      "cell_type": "code",
      "metadata": {
        "colab": {
          "base_uri": "https://localhost:8080/",
          "height": 282
        },
        "id": "4N-W0eFY2taz",
        "outputId": "dd2caa71-57a6-4434-b4c2-fb8655ea0794"
      },
      "source": [
        "plt.imshow(X_test[0])"
      ],
      "execution_count": 40,
      "outputs": [
        {
          "output_type": "execute_result",
          "data": {
            "text/plain": [
              "<matplotlib.image.AxesImage at 0x7f668c6a5310>"
            ]
          },
          "metadata": {
            "tags": []
          },
          "execution_count": 40
        },
        {
          "output_type": "display_data",
          "data": {
            "image/png": "[encoded data removed]",
            "text/plain": [
              "<Figure size 432x288 with 1 Axes>"
            ]
          },
          "metadata": {
            "tags": [],
            "needs_background": "light"
          }
        }
      ]
    },
    {
      "cell_type": "code",
      "metadata": {
        "id": "I0Puk3jO2KaE"
      },
      "source": [
        ""
      ],
      "execution_count": null,
      "outputs": []
    },
    {
      "cell_type": "markdown",
      "metadata": {
        "id": "zoy9riIP3fvy"
      },
      "source": [
        "**List the class**"
      ]
    },
    {
      "cell_type": "code",
      "metadata": {
        "id": "nlexGqO63jm8"
      },
      "source": [
        "class_names = [\"T-shirt/top\", \"Trouser\", \"Pullover\", \"Dress\", \"Coat\",\"Sandal\", \"Shirt\", \"Sneaker\", \"Bag\", \"Ankle boot\"]"
      ],
      "execution_count": 48,
      "outputs": []
    },
    {
      "cell_type": "code",
      "metadata": {
        "colab": {
          "base_uri": "https://localhost:8080/",
          "height": 35
        },
        "id": "APoq22jl3wv9",
        "outputId": "b0324afd-6b83-491d-bf44-7b79dcdb207a"
      },
      "source": [
        "class_names[y_train[0]]"
      ],
      "execution_count": 54,
      "outputs": [
        {
          "output_type": "execute_result",
          "data": {
            "application/vnd.google.colaboratory.intrinsic+json": {
              "type": "string"
            },
            "text/plain": [
              "'Ankle boot'"
            ]
          },
          "metadata": {
            "tags": []
          },
          "execution_count": 54
        }
      ]
    },
    {
      "cell_type": "code",
      "metadata": {
        "colab": {
          "base_uri": "https://localhost:8080/",
          "height": 35
        },
        "id": "vxvhQl0C35sk",
        "outputId": "cc68c054-b7d4-4a38-e1d9-7528370de577"
      },
      "source": [
        "class_names[y_train[9]]"
      ],
      "execution_count": 57,
      "outputs": [
        {
          "output_type": "execute_result",
          "data": {
            "application/vnd.google.colaboratory.intrinsic+json": {
              "type": "string"
            },
            "text/plain": [
              "'Sandal'"
            ]
          },
          "metadata": {
            "tags": []
          },
          "execution_count": 57
        }
      ]
    },
    {
      "cell_type": "code",
      "metadata": {
        "colab": {
          "base_uri": "https://localhost:8080/"
        },
        "id": "LQcX1Gon4LFo",
        "outputId": "bd585e79-8915-4d6b-9e8b-bd60bf9f5d9e"
      },
      "source": [
        "for i in range(0,10):\n",
        "  print(class_names[y_train[i]])"
      ],
      "execution_count": 58,
      "outputs": [
        {
          "output_type": "stream",
          "text": [
            "Ankle boot\n",
            "T-shirt/top\n",
            "T-shirt/top\n",
            "Dress\n",
            "T-shirt/top\n",
            "Pullover\n",
            "Sneaker\n",
            "Pullover\n",
            "Sandal\n",
            "Sandal\n"
          ],
          "name": "stdout"
        }
      ]
    },
    {
      "cell_type": "code",
      "metadata": {
        "colab": {
          "base_uri": "https://localhost:8080/"
        },
        "id": "s2GOlNbf4hhC",
        "outputId": "244364f8-6284-4384-d299-568ac06c7b72"
      },
      "source": [
        "for i in range(0,10):\n",
        "  print(class_names[y_valid[i]])"
      ],
      "execution_count": 59,
      "outputs": [
        {
          "output_type": "stream",
          "text": [
            "Ankle boot\n",
            "Pullover\n",
            "Trouser\n",
            "T-shirt/top\n",
            "Pullover\n",
            "Sneaker\n",
            "Ankle boot\n",
            "Dress\n",
            "Trouser\n",
            "Trouser\n"
          ],
          "name": "stdout"
        }
      ]
    },
    {
      "cell_type": "code",
      "metadata": {
        "colab": {
          "base_uri": "https://localhost:8080/"
        },
        "id": "aV6Ntx3O5XCN",
        "outputId": "67f37552-87e0-4087-aef5-d412e5b7526e"
      },
      "source": [
        "for i in range(0,10):\n",
        "  print(class_names[y_test[i]])"
      ],
      "execution_count": 60,
      "outputs": [
        {
          "output_type": "stream",
          "text": [
            "Ankle boot\n",
            "Pullover\n",
            "Trouser\n",
            "Trouser\n",
            "Shirt\n",
            "Trouser\n",
            "Coat\n",
            "Shirt\n",
            "Sandal\n",
            "Sneaker\n"
          ],
          "name": "stdout"
        }
      ]
    },
    {
      "cell_type": "code",
      "metadata": {
        "id": "7j4uBvUe5att"
      },
      "source": [
        ""
      ],
      "execution_count": 60,
      "outputs": []
    },
    {
      "cell_type": "code",
      "metadata": {
        "id": "o-PE_Tfh5i-3"
      },
      "source": [
        ""
      ],
      "execution_count": null,
      "outputs": []
    },
    {
      "cell_type": "markdown",
      "metadata": {
        "id": "ZY4kfIZu5j3P"
      },
      "source": [
        "Creating the model using Sequential API"
      ]
    },
    {
      "cell_type": "code",
      "metadata": {
        "id": "aZXy_pPN5pIc"
      },
      "source": [
        "model = keras.models.Sequential()"
      ],
      "execution_count": 62,
      "outputs": []
    },
    {
      "cell_type": "code",
      "metadata": {
        "id": "Z0WBvJQt5syO"
      },
      "source": [
        ""
      ],
      "execution_count": null,
      "outputs": []
    },
    {
      "cell_type": "markdown",
      "metadata": {
        "id": "fVBvawTs6Fu4"
      },
      "source": [
        "Add first layer to model, use flatten layer to convert 1D array from image"
      ]
    },
    {
      "cell_type": "code",
      "metadata": {
        "id": "4gEWVhoh6uaE"
      },
      "source": [
        "model.add(keras.layers.Flatten(input_shape=[28,28]))"
      ],
      "execution_count": 64,
      "outputs": []
    },
    {
      "cell_type": "markdown",
      "metadata": {
        "id": "I_wKVh4g7J9F"
      },
      "source": [
        "Add Dense hidden layer with 300 neurons. It use ReLU activation function  "
      ]
    },
    {
      "cell_type": "code",
      "metadata": {
        "id": "yYH4kMGw67JX"
      },
      "source": [
        "model.add(keras.layers.Dense(300, activation = 'relu'))"
      ],
      "execution_count": 65,
      "outputs": []
    },
    {
      "cell_type": "code",
      "metadata": {
        "id": "lRrdNJ6o7r_B"
      },
      "source": [
        ""
      ],
      "execution_count": 65,
      "outputs": []
    },
    {
      "cell_type": "markdown",
      "metadata": {
        "id": "GCDXNVHl75zB"
      },
      "source": [
        "Again, add second dense  hidden layer with 100 neurons"
      ]
    },
    {
      "cell_type": "code",
      "metadata": {
        "id": "C3u2RO2J78-d"
      },
      "source": [
        "model.add(keras.layers.Dense(100, activation = 'relu'))"
      ],
      "execution_count": 66,
      "outputs": []
    },
    {
      "cell_type": "markdown",
      "metadata": {
        "id": "V8QcWiTr8K4b"
      },
      "source": [
        "Add 10 Dense Output layer use softmax activation function for output"
      ]
    },
    {
      "cell_type": "code",
      "metadata": {
        "id": "OyEbeoC08Eo0"
      },
      "source": [
        "model.add(keras.layers.Dense(10, activation = 'softmax'))"
      ],
      "execution_count": 68,
      "outputs": []
    },
    {
      "cell_type": "code",
      "metadata": {
        "colab": {
          "base_uri": "https://localhost:8080/"
        },
        "id": "ie_xBQtp8aWF",
        "outputId": "171b3577-aca5-4262-80d4-f20faf38b5d8"
      },
      "source": [
        "model.summary()"
      ],
      "execution_count": 69,
      "outputs": [
        {
          "output_type": "stream",
          "text": [
            "Model: \"sequential\"\n",
            "_________________________________________________________________\n",
            "Layer (type)                 Output Shape              Param #   \n",
            "=================================================================\n",
            "flatten (Flatten)            (None, 784)               0         \n",
            "_________________________________________________________________\n",
            "dense (Dense)                (None, 300)               235500    \n",
            "_________________________________________________________________\n",
            "dense_1 (Dense)              (None, 100)               30100     \n",
            "_________________________________________________________________\n",
            "dense_2 (Dense)              (None, 10)                1010      \n",
            "_________________________________________________________________\n",
            "dense_3 (Dense)              (None, 10)                110       \n",
            "=================================================================\n",
            "Total params: 266,720\n",
            "Trainable params: 266,720\n",
            "Non-trainable params: 0\n",
            "_________________________________________________________________\n"
          ],
          "name": "stdout"
        }
      ]
    },
    {
      "cell_type": "markdown",
      "metadata": {
        "id": "Elu-qMaX89sV"
      },
      "source": [
        "None means batch size can be anything"
      ]
    },
    {
      "cell_type": "markdown",
      "metadata": {
        "id": "WgLTfMF29TSc"
      },
      "source": [
        "Model is created now we have to compile it.<br>\n",
        "We use compile() method and specify the loss and optimizer and metrics accuracy for evaluating the model"
      ]
    },
    {
      "cell_type": "code",
      "metadata": {
        "id": "2gEnL5US8sXj"
      },
      "source": [
        "model.compile(loss = 'sparse_categorical_crossentropy',\n",
        "              optimizer= 'adam',\n",
        "              metrics = ['accuracy'])"
      ],
      "execution_count": 70,
      "outputs": []
    },
    {
      "cell_type": "code",
      "metadata": {
        "colab": {
          "base_uri": "https://localhost:8080/"
        },
        "id": "7pV5ZreT-CO2",
        "outputId": "5f80c350-0e42-481b-e798-e2bc6ae7da10"
      },
      "source": [
        "history = model.fit(X_train, y_train, epochs = 300, validation_data=(X_valid, y_valid))"
      ],
      "execution_count": 72,
      "outputs": [
        {
          "output_type": "stream",
          "text": [
            "Epoch 1/300\n",
            "1563/1563 [==============================] - 5s 3ms/step - loss: 0.1403 - accuracy: 0.9504 - val_loss: 0.3665 - val_accuracy: 0.8898\n",
            "Epoch 2/300\n",
            "1563/1563 [==============================] - 5s 3ms/step - loss: 0.1370 - accuracy: 0.9506 - val_loss: 0.3538 - val_accuracy: 0.8925\n",
            "Epoch 3/300\n",
            "1563/1563 [==============================] - 5s 3ms/step - loss: 0.1339 - accuracy: 0.9524 - val_loss: 0.3477 - val_accuracy: 0.8940\n",
            "Epoch 4/300\n",
            "1563/1563 [==============================] - 5s 3ms/step - loss: 0.1337 - accuracy: 0.9525 - val_loss: 0.3789 - val_accuracy: 0.8878\n",
            "Epoch 5/300\n",
            "1563/1563 [==============================] - 5s 3ms/step - loss: 0.1318 - accuracy: 0.9533 - val_loss: 0.3676 - val_accuracy: 0.8896\n",
            "Epoch 6/300\n",
            "1563/1563 [==============================] - 5s 3ms/step - loss: 0.1280 - accuracy: 0.9545 - val_loss: 0.3683 - val_accuracy: 0.8904\n",
            "Epoch 7/300\n",
            "1563/1563 [==============================] - 5s 3ms/step - loss: 0.1222 - accuracy: 0.9579 - val_loss: 0.3768 - val_accuracy: 0.8909\n",
            "Epoch 8/300\n",
            "1563/1563 [==============================] - 5s 3ms/step - loss: 0.1251 - accuracy: 0.9552 - val_loss: 0.3777 - val_accuracy: 0.8903\n",
            "Epoch 9/300\n",
            "1563/1563 [==============================] - 5s 3ms/step - loss: 0.1194 - accuracy: 0.9577 - val_loss: 0.3829 - val_accuracy: 0.8939\n",
            "Epoch 10/300\n",
            "1563/1563 [==============================] - 5s 3ms/step - loss: 0.1177 - accuracy: 0.9579 - val_loss: 0.3865 - val_accuracy: 0.8879\n",
            "Epoch 11/300\n",
            "1563/1563 [==============================] - 5s 3ms/step - loss: 0.1162 - accuracy: 0.9591 - val_loss: 0.3917 - val_accuracy: 0.8932\n",
            "Epoch 12/300\n",
            "1563/1563 [==============================] - 5s 3ms/step - loss: 0.1133 - accuracy: 0.9606 - val_loss: 0.3950 - val_accuracy: 0.8905\n",
            "Epoch 13/300\n",
            "1563/1563 [==============================] - 5s 3ms/step - loss: 0.1138 - accuracy: 0.9588 - val_loss: 0.3744 - val_accuracy: 0.8960\n",
            "Epoch 14/300\n",
            "1563/1563 [==============================] - 5s 3ms/step - loss: 0.1094 - accuracy: 0.9617 - val_loss: 0.3919 - val_accuracy: 0.8882\n",
            "Epoch 15/300\n",
            "1563/1563 [==============================] - 5s 3ms/step - loss: 0.1132 - accuracy: 0.9599 - val_loss: 0.3845 - val_accuracy: 0.8921\n",
            "Epoch 16/300\n",
            "1563/1563 [==============================] - 5s 3ms/step - loss: 0.1084 - accuracy: 0.9618 - val_loss: 0.4136 - val_accuracy: 0.8909\n",
            "Epoch 17/300\n",
            "1563/1563 [==============================] - 5s 3ms/step - loss: 0.1036 - accuracy: 0.9640 - val_loss: 0.4241 - val_accuracy: 0.8863\n",
            "Epoch 18/300\n",
            "1563/1563 [==============================] - 5s 3ms/step - loss: 0.1036 - accuracy: 0.9636 - val_loss: 0.4030 - val_accuracy: 0.8947\n",
            "Epoch 19/300\n",
            "1563/1563 [==============================] - 5s 3ms/step - loss: 0.1018 - accuracy: 0.9651 - val_loss: 0.3994 - val_accuracy: 0.8934\n",
            "Epoch 20/300\n",
            "1563/1563 [==============================] - 5s 3ms/step - loss: 0.1038 - accuracy: 0.9630 - val_loss: 0.3959 - val_accuracy: 0.8936\n",
            "Epoch 21/300\n",
            "1563/1563 [==============================] - 5s 3ms/step - loss: 0.1011 - accuracy: 0.9648 - val_loss: 0.4004 - val_accuracy: 0.8931\n",
            "Epoch 22/300\n",
            "1563/1563 [==============================] - 5s 3ms/step - loss: 0.0983 - accuracy: 0.9661 - val_loss: 0.4072 - val_accuracy: 0.8915\n",
            "Epoch 23/300\n",
            "1563/1563 [==============================] - 5s 3ms/step - loss: 0.0954 - accuracy: 0.9661 - val_loss: 0.4258 - val_accuracy: 0.8926\n",
            "Epoch 24/300\n",
            "1563/1563 [==============================] - 5s 3ms/step - loss: 0.0979 - accuracy: 0.9663 - val_loss: 0.4006 - val_accuracy: 0.8909\n",
            "Epoch 25/300\n",
            "1563/1563 [==============================] - 5s 3ms/step - loss: 0.0927 - accuracy: 0.9672 - val_loss: 0.4083 - val_accuracy: 0.8909\n",
            "Epoch 26/300\n",
            "1563/1563 [==============================] - 5s 3ms/step - loss: 0.0969 - accuracy: 0.9673 - val_loss: 0.4211 - val_accuracy: 0.8932\n",
            "Epoch 27/300\n",
            "1563/1563 [==============================] - 5s 3ms/step - loss: 0.0917 - accuracy: 0.9687 - val_loss: 0.4070 - val_accuracy: 0.8933\n",
            "Epoch 28/300\n",
            "1563/1563 [==============================] - 5s 3ms/step - loss: 0.0920 - accuracy: 0.9687 - val_loss: 0.4392 - val_accuracy: 0.8893\n",
            "Epoch 29/300\n",
            "1563/1563 [==============================] - 5s 3ms/step - loss: 0.0908 - accuracy: 0.9686 - val_loss: 0.4464 - val_accuracy: 0.8904\n",
            "Epoch 30/300\n",
            "1563/1563 [==============================] - 5s 3ms/step - loss: 0.0875 - accuracy: 0.9695 - val_loss: 0.4096 - val_accuracy: 0.8947\n",
            "Epoch 31/300\n",
            "1563/1563 [==============================] - 5s 3ms/step - loss: 0.0908 - accuracy: 0.9682 - val_loss: 0.4178 - val_accuracy: 0.8952\n",
            "Epoch 32/300\n",
            "1563/1563 [==============================] - 5s 3ms/step - loss: 0.0893 - accuracy: 0.9691 - val_loss: 0.4435 - val_accuracy: 0.8909\n",
            "Epoch 33/300\n",
            "1563/1563 [==============================] - 5s 3ms/step - loss: 0.0864 - accuracy: 0.9699 - val_loss: 0.4166 - val_accuracy: 0.8953\n",
            "Epoch 34/300\n",
            "1563/1563 [==============================] - 5s 3ms/step - loss: 0.0850 - accuracy: 0.9708 - val_loss: 0.4480 - val_accuracy: 0.8935\n",
            "Epoch 35/300\n",
            "1563/1563 [==============================] - 5s 3ms/step - loss: 0.0878 - accuracy: 0.9693 - val_loss: 0.4588 - val_accuracy: 0.8894\n",
            "Epoch 36/300\n",
            "1563/1563 [==============================] - 5s 3ms/step - loss: 0.0839 - accuracy: 0.9713 - val_loss: 0.4494 - val_accuracy: 0.8898\n",
            "Epoch 37/300\n",
            "1563/1563 [==============================] - 5s 3ms/step - loss: 0.0834 - accuracy: 0.9717 - val_loss: 0.4782 - val_accuracy: 0.8859\n",
            "Epoch 38/300\n",
            "1563/1563 [==============================] - 5s 3ms/step - loss: 0.0802 - accuracy: 0.9729 - val_loss: 0.4413 - val_accuracy: 0.8904\n",
            "Epoch 39/300\n",
            "1563/1563 [==============================] - 5s 3ms/step - loss: 0.0829 - accuracy: 0.9718 - val_loss: 0.4830 - val_accuracy: 0.8784\n",
            "Epoch 40/300\n",
            "1563/1563 [==============================] - 5s 3ms/step - loss: 0.0800 - accuracy: 0.9725 - val_loss: 0.4581 - val_accuracy: 0.8914\n",
            "Epoch 41/300\n",
            "1563/1563 [==============================] - 5s 3ms/step - loss: 0.0794 - accuracy: 0.9731 - val_loss: 0.4452 - val_accuracy: 0.8930\n",
            "Epoch 42/300\n",
            "1563/1563 [==============================] - 5s 3ms/step - loss: 0.0775 - accuracy: 0.9737 - val_loss: 0.4468 - val_accuracy: 0.8940\n",
            "Epoch 43/300\n",
            "1563/1563 [==============================] - 5s 3ms/step - loss: 0.0780 - accuracy: 0.9737 - val_loss: 0.4709 - val_accuracy: 0.8905\n",
            "Epoch 44/300\n",
            "1563/1563 [==============================] - 5s 3ms/step - loss: 0.0796 - accuracy: 0.9726 - val_loss: 0.4429 - val_accuracy: 0.8916\n",
            "Epoch 45/300\n",
            "1563/1563 [==============================] - 5s 3ms/step - loss: 0.0762 - accuracy: 0.9746 - val_loss: 0.4521 - val_accuracy: 0.8954\n",
            "Epoch 46/300\n",
            "1563/1563 [==============================] - 5s 3ms/step - loss: 0.0796 - accuracy: 0.9730 - val_loss: 0.4463 - val_accuracy: 0.8929\n",
            "Epoch 47/300\n",
            "1563/1563 [==============================] - 5s 3ms/step - loss: 0.0759 - accuracy: 0.9744 - val_loss: 0.4613 - val_accuracy: 0.8940\n",
            "Epoch 48/300\n",
            "1563/1563 [==============================] - 5s 3ms/step - loss: 0.0727 - accuracy: 0.9748 - val_loss: 0.4666 - val_accuracy: 0.8900\n",
            "Epoch 49/300\n",
            "1563/1563 [==============================] - 5s 3ms/step - loss: 0.0759 - accuracy: 0.9738 - val_loss: 0.4639 - val_accuracy: 0.8961\n",
            "Epoch 50/300\n",
            "1563/1563 [==============================] - 5s 3ms/step - loss: 0.0704 - accuracy: 0.9767 - val_loss: 0.4484 - val_accuracy: 0.8955\n",
            "Epoch 51/300\n",
            "1563/1563 [==============================] - 5s 3ms/step - loss: 0.0766 - accuracy: 0.9742 - val_loss: 0.4677 - val_accuracy: 0.8886\n",
            "Epoch 52/300\n",
            "1563/1563 [==============================] - 5s 3ms/step - loss: 0.0728 - accuracy: 0.9753 - val_loss: 0.4761 - val_accuracy: 0.8902\n",
            "Epoch 53/300\n",
            "1563/1563 [==============================] - 5s 3ms/step - loss: 0.0689 - accuracy: 0.9768 - val_loss: 0.4824 - val_accuracy: 0.8924\n",
            "Epoch 54/300\n",
            "1563/1563 [==============================] - 5s 3ms/step - loss: 0.0712 - accuracy: 0.9760 - val_loss: 0.4620 - val_accuracy: 0.8924\n",
            "Epoch 55/300\n",
            "1563/1563 [==============================] - 5s 3ms/step - loss: 0.0707 - accuracy: 0.9767 - val_loss: 0.4595 - val_accuracy: 0.8922\n",
            "Epoch 56/300\n",
            "1563/1563 [==============================] - 5s 3ms/step - loss: 0.0671 - accuracy: 0.9778 - val_loss: 0.4607 - val_accuracy: 0.8911\n",
            "Epoch 57/300\n",
            "1563/1563 [==============================] - 5s 3ms/step - loss: 0.0657 - accuracy: 0.9780 - val_loss: 0.4589 - val_accuracy: 0.8901\n",
            "Epoch 58/300\n",
            "1563/1563 [==============================] - 5s 3ms/step - loss: 0.0733 - accuracy: 0.9757 - val_loss: 0.5005 - val_accuracy: 0.8836\n",
            "Epoch 59/300\n",
            "1563/1563 [==============================] - 5s 3ms/step - loss: 0.0696 - accuracy: 0.9769 - val_loss: 0.4809 - val_accuracy: 0.8876\n",
            "Epoch 60/300\n",
            "1563/1563 [==============================] - 5s 3ms/step - loss: 0.0671 - accuracy: 0.9774 - val_loss: 0.4993 - val_accuracy: 0.8869\n",
            "Epoch 61/300\n",
            "1563/1563 [==============================] - 5s 3ms/step - loss: 0.0649 - accuracy: 0.9781 - val_loss: 0.4923 - val_accuracy: 0.8886\n",
            "Epoch 62/300\n",
            "1563/1563 [==============================] - 5s 3ms/step - loss: 0.0648 - accuracy: 0.9784 - val_loss: 0.5001 - val_accuracy: 0.8877\n",
            "Epoch 63/300\n",
            "1563/1563 [==============================] - 5s 3ms/step - loss: 0.0699 - accuracy: 0.9768 - val_loss: 0.4877 - val_accuracy: 0.8912\n",
            "Epoch 64/300\n",
            "1563/1563 [==============================] - 5s 3ms/step - loss: 0.0631 - accuracy: 0.9798 - val_loss: 0.5009 - val_accuracy: 0.8925\n",
            "Epoch 65/300\n",
            "1563/1563 [==============================] - 5s 3ms/step - loss: 0.0617 - accuracy: 0.9801 - val_loss: 0.5660 - val_accuracy: 0.8823\n",
            "Epoch 66/300\n",
            "1563/1563 [==============================] - 5s 3ms/step - loss: 0.0700 - accuracy: 0.9765 - val_loss: 0.5015 - val_accuracy: 0.8911\n",
            "Epoch 67/300\n",
            "1563/1563 [==============================] - 5s 3ms/step - loss: 0.0633 - accuracy: 0.9794 - val_loss: 0.5198 - val_accuracy: 0.8893\n",
            "Epoch 68/300\n",
            "1563/1563 [==============================] - 5s 3ms/step - loss: 0.0609 - accuracy: 0.9802 - val_loss: 0.5112 - val_accuracy: 0.8937\n",
            "Epoch 69/300\n",
            "1563/1563 [==============================] - 5s 3ms/step - loss: 0.0632 - accuracy: 0.9787 - val_loss: 0.4843 - val_accuracy: 0.8881\n",
            "Epoch 70/300\n",
            "1563/1563 [==============================] - 5s 3ms/step - loss: 0.0633 - accuracy: 0.9790 - val_loss: 0.5008 - val_accuracy: 0.8911\n",
            "Epoch 71/300\n",
            "1563/1563 [==============================] - 5s 3ms/step - loss: 0.0621 - accuracy: 0.9794 - val_loss: 0.5059 - val_accuracy: 0.8897\n",
            "Epoch 72/300\n",
            "1563/1563 [==============================] - 5s 3ms/step - loss: 0.0586 - accuracy: 0.9804 - val_loss: 0.5109 - val_accuracy: 0.8891\n",
            "Epoch 73/300\n",
            "1563/1563 [==============================] - 5s 3ms/step - loss: 0.0604 - accuracy: 0.9798 - val_loss: 0.5109 - val_accuracy: 0.8915\n",
            "Epoch 74/300\n",
            "1563/1563 [==============================] - 5s 3ms/step - loss: 0.0637 - accuracy: 0.9798 - val_loss: 0.5059 - val_accuracy: 0.8915\n",
            "Epoch 75/300\n",
            "1563/1563 [==============================] - 5s 3ms/step - loss: 0.0626 - accuracy: 0.9796 - val_loss: 0.5401 - val_accuracy: 0.8888\n",
            "Epoch 76/300\n",
            "1563/1563 [==============================] - 5s 3ms/step - loss: 0.0581 - accuracy: 0.9813 - val_loss: 0.5193 - val_accuracy: 0.8883\n",
            "Epoch 77/300\n",
            "1563/1563 [==============================] - 5s 3ms/step - loss: 0.0613 - accuracy: 0.9799 - val_loss: 0.4969 - val_accuracy: 0.8953\n",
            "Epoch 78/300\n",
            "1563/1563 [==============================] - 5s 3ms/step - loss: 0.0617 - accuracy: 0.9793 - val_loss: 0.5071 - val_accuracy: 0.8876\n",
            "Epoch 79/300\n",
            "1563/1563 [==============================] - 5s 3ms/step - loss: 0.0546 - accuracy: 0.9820 - val_loss: 0.5266 - val_accuracy: 0.8896\n",
            "Epoch 80/300\n",
            "1563/1563 [==============================] - 5s 3ms/step - loss: 0.0637 - accuracy: 0.9792 - val_loss: 0.5132 - val_accuracy: 0.8948\n",
            "Epoch 81/300\n",
            "1563/1563 [==============================] - 5s 3ms/step - loss: 0.0538 - accuracy: 0.9830 - val_loss: 0.5188 - val_accuracy: 0.8894\n",
            "Epoch 82/300\n",
            "1563/1563 [==============================] - 5s 3ms/step - loss: 0.0626 - accuracy: 0.9795 - val_loss: 0.5297 - val_accuracy: 0.8877\n",
            "Epoch 83/300\n",
            "1563/1563 [==============================] - 5s 3ms/step - loss: 0.0575 - accuracy: 0.9811 - val_loss: 0.5242 - val_accuracy: 0.8924\n",
            "Epoch 84/300\n",
            "1563/1563 [==============================] - 5s 3ms/step - loss: 0.0603 - accuracy: 0.9803 - val_loss: 0.5079 - val_accuracy: 0.8944\n",
            "Epoch 85/300\n",
            "1563/1563 [==============================] - 5s 3ms/step - loss: 0.0580 - accuracy: 0.9814 - val_loss: 0.5224 - val_accuracy: 0.8922\n",
            "Epoch 86/300\n",
            "1563/1563 [==============================] - 5s 3ms/step - loss: 0.0562 - accuracy: 0.9820 - val_loss: 0.5268 - val_accuracy: 0.8935\n",
            "Epoch 87/300\n",
            "1563/1563 [==============================] - 5s 3ms/step - loss: 0.0551 - accuracy: 0.9820 - val_loss: 0.5171 - val_accuracy: 0.8918\n",
            "Epoch 88/300\n",
            "1563/1563 [==============================] - 5s 3ms/step - loss: 0.0542 - accuracy: 0.9822 - val_loss: 0.5532 - val_accuracy: 0.8873\n",
            "Epoch 89/300\n",
            "1563/1563 [==============================] - 5s 3ms/step - loss: 0.0628 - accuracy: 0.9795 - val_loss: 0.4994 - val_accuracy: 0.8932\n",
            "Epoch 90/300\n",
            "1563/1563 [==============================] - 5s 3ms/step - loss: 0.0504 - accuracy: 0.9835 - val_loss: 0.5233 - val_accuracy: 0.8885\n",
            "Epoch 91/300\n",
            "1563/1563 [==============================] - 5s 3ms/step - loss: 0.0643 - accuracy: 0.9800 - val_loss: 0.4885 - val_accuracy: 0.8944\n",
            "Epoch 92/300\n",
            "1563/1563 [==============================] - 5s 3ms/step - loss: 0.0519 - accuracy: 0.9829 - val_loss: 0.5223 - val_accuracy: 0.8925\n",
            "Epoch 93/300\n",
            "1563/1563 [==============================] - 5s 3ms/step - loss: 0.0605 - accuracy: 0.9806 - val_loss: 0.5290 - val_accuracy: 0.8903\n",
            "Epoch 94/300\n",
            "1563/1563 [==============================] - 5s 3ms/step - loss: 0.0566 - accuracy: 0.9817 - val_loss: 0.5374 - val_accuracy: 0.8892\n",
            "Epoch 95/300\n",
            "1563/1563 [==============================] - 5s 3ms/step - loss: 0.0506 - accuracy: 0.9835 - val_loss: 0.5395 - val_accuracy: 0.8851\n",
            "Epoch 96/300\n",
            "1563/1563 [==============================] - 5s 3ms/step - loss: 0.0548 - accuracy: 0.9824 - val_loss: 0.5141 - val_accuracy: 0.8921\n",
            "Epoch 97/300\n",
            "1563/1563 [==============================] - 5s 3ms/step - loss: 0.0511 - accuracy: 0.9842 - val_loss: 0.5288 - val_accuracy: 0.8916\n",
            "Epoch 98/300\n",
            "1563/1563 [==============================] - 5s 3ms/step - loss: 0.0567 - accuracy: 0.9825 - val_loss: 0.5558 - val_accuracy: 0.8863\n",
            "Epoch 99/300\n",
            "1563/1563 [==============================] - 5s 3ms/step - loss: 0.0553 - accuracy: 0.9818 - val_loss: 0.5280 - val_accuracy: 0.8899\n",
            "Epoch 100/300\n",
            "1563/1563 [==============================] - 6s 4ms/step - loss: 0.0623 - accuracy: 0.9803 - val_loss: 0.5295 - val_accuracy: 0.8864\n",
            "Epoch 101/300\n",
            "1563/1563 [==============================] - 5s 3ms/step - loss: 0.0472 - accuracy: 0.9850 - val_loss: 0.5338 - val_accuracy: 0.8882\n",
            "Epoch 102/300\n",
            "1563/1563 [==============================] - 5s 3ms/step - loss: 0.0593 - accuracy: 0.9805 - val_loss: 0.5323 - val_accuracy: 0.8951\n",
            "Epoch 103/300\n",
            "1563/1563 [==============================] - 5s 3ms/step - loss: 0.0547 - accuracy: 0.9831 - val_loss: 0.5327 - val_accuracy: 0.8915\n",
            "Epoch 104/300\n",
            "1563/1563 [==============================] - 5s 3ms/step - loss: 0.0489 - accuracy: 0.9845 - val_loss: 0.5230 - val_accuracy: 0.8924\n",
            "Epoch 105/300\n",
            "1563/1563 [==============================] - 5s 3ms/step - loss: 0.0536 - accuracy: 0.9826 - val_loss: 0.5578 - val_accuracy: 0.8887\n",
            "Epoch 106/300\n",
            "1563/1563 [==============================] - 5s 3ms/step - loss: 0.0495 - accuracy: 0.9847 - val_loss: 0.5481 - val_accuracy: 0.8889\n",
            "Epoch 107/300\n",
            "1563/1563 [==============================] - 5s 3ms/step - loss: 0.0535 - accuracy: 0.9834 - val_loss: 0.5461 - val_accuracy: 0.8876\n",
            "Epoch 108/300\n",
            "1563/1563 [==============================] - 5s 3ms/step - loss: 0.0545 - accuracy: 0.9828 - val_loss: 0.5385 - val_accuracy: 0.8899\n",
            "Epoch 109/300\n",
            "1563/1563 [==============================] - 5s 3ms/step - loss: 0.0571 - accuracy: 0.9822 - val_loss: 0.5215 - val_accuracy: 0.8965\n",
            "Epoch 110/300\n",
            "1563/1563 [==============================] - 5s 3ms/step - loss: 0.0488 - accuracy: 0.9854 - val_loss: 0.5404 - val_accuracy: 0.8911\n",
            "Epoch 111/300\n",
            "1563/1563 [==============================] - 5s 3ms/step - loss: 0.0532 - accuracy: 0.9829 - val_loss: 0.5448 - val_accuracy: 0.8921\n",
            "Epoch 112/300\n",
            "1563/1563 [==============================] - 5s 3ms/step - loss: 0.0516 - accuracy: 0.9833 - val_loss: 0.5299 - val_accuracy: 0.8894\n",
            "Epoch 113/300\n",
            "1563/1563 [==============================] - 5s 3ms/step - loss: 0.0540 - accuracy: 0.9824 - val_loss: 0.5205 - val_accuracy: 0.8941\n",
            "Epoch 114/300\n",
            "1563/1563 [==============================] - 5s 3ms/step - loss: 0.0524 - accuracy: 0.9833 - val_loss: 0.5460 - val_accuracy: 0.8936\n",
            "Epoch 115/300\n",
            "1563/1563 [==============================] - 5s 3ms/step - loss: 0.0484 - accuracy: 0.9847 - val_loss: 0.5495 - val_accuracy: 0.8901\n",
            "Epoch 116/300\n",
            "1563/1563 [==============================] - 5s 3ms/step - loss: 0.0524 - accuracy: 0.9831 - val_loss: 0.5602 - val_accuracy: 0.8894\n",
            "Epoch 117/300\n",
            "1563/1563 [==============================] - 5s 3ms/step - loss: 0.0513 - accuracy: 0.9842 - val_loss: 0.5200 - val_accuracy: 0.8948\n",
            "Epoch 118/300\n",
            "1563/1563 [==============================] - 5s 3ms/step - loss: 0.0507 - accuracy: 0.9841 - val_loss: 0.5177 - val_accuracy: 0.8927\n",
            "Epoch 119/300\n",
            "1563/1563 [==============================] - 5s 3ms/step - loss: 0.0544 - accuracy: 0.9831 - val_loss: 0.5546 - val_accuracy: 0.8885\n",
            "Epoch 120/300\n",
            "1563/1563 [==============================] - 5s 3ms/step - loss: 0.0503 - accuracy: 0.9846 - val_loss: 0.5272 - val_accuracy: 0.8935\n",
            "Epoch 121/300\n",
            "1563/1563 [==============================] - 5s 3ms/step - loss: 0.0515 - accuracy: 0.9834 - val_loss: 0.5240 - val_accuracy: 0.8946\n",
            "Epoch 122/300\n",
            "1563/1563 [==============================] - 5s 3ms/step - loss: 0.0464 - accuracy: 0.9854 - val_loss: 0.5291 - val_accuracy: 0.8906\n",
            "Epoch 123/300\n",
            "1563/1563 [==============================] - 5s 3ms/step - loss: 0.0523 - accuracy: 0.9837 - val_loss: 0.5600 - val_accuracy: 0.8888\n",
            "Epoch 124/300\n",
            "1563/1563 [==============================] - 5s 3ms/step - loss: 0.0530 - accuracy: 0.9825 - val_loss: 0.5438 - val_accuracy: 0.8917\n",
            "Epoch 125/300\n",
            "1563/1563 [==============================] - 5s 3ms/step - loss: 0.0497 - accuracy: 0.9845 - val_loss: 0.5371 - val_accuracy: 0.8892\n",
            "Epoch 126/300\n",
            "1563/1563 [==============================] - 5s 3ms/step - loss: 0.0474 - accuracy: 0.9855 - val_loss: 0.5392 - val_accuracy: 0.8898\n",
            "Epoch 127/300\n",
            "1563/1563 [==============================] - 5s 3ms/step - loss: 0.0490 - accuracy: 0.9848 - val_loss: 0.5307 - val_accuracy: 0.8911\n",
            "Epoch 128/300\n",
            "1563/1563 [==============================] - 5s 3ms/step - loss: 0.0482 - accuracy: 0.9853 - val_loss: 0.5519 - val_accuracy: 0.8934\n",
            "Epoch 129/300\n",
            "1563/1563 [==============================] - 5s 3ms/step - loss: 0.0537 - accuracy: 0.9832 - val_loss: 0.5586 - val_accuracy: 0.8875\n",
            "Epoch 130/300\n",
            "1563/1563 [==============================] - 5s 3ms/step - loss: 0.0512 - accuracy: 0.9840 - val_loss: 0.5514 - val_accuracy: 0.8931\n",
            "Epoch 131/300\n",
            "1563/1563 [==============================] - 5s 3ms/step - loss: 0.0490 - accuracy: 0.9846 - val_loss: 0.5678 - val_accuracy: 0.8851\n",
            "Epoch 132/300\n",
            "1563/1563 [==============================] - 5s 3ms/step - loss: 0.0501 - accuracy: 0.9847 - val_loss: 0.5561 - val_accuracy: 0.8915\n",
            "Epoch 133/300\n",
            "1563/1563 [==============================] - 5s 3ms/step - loss: 0.0444 - accuracy: 0.9871 - val_loss: 0.5575 - val_accuracy: 0.8916\n",
            "Epoch 134/300\n",
            "1563/1563 [==============================] - 5s 3ms/step - loss: 0.0533 - accuracy: 0.9834 - val_loss: 0.5254 - val_accuracy: 0.8937\n",
            "Epoch 135/300\n",
            "1563/1563 [==============================] - 5s 3ms/step - loss: 0.0491 - accuracy: 0.9846 - val_loss: 0.5418 - val_accuracy: 0.8932\n",
            "Epoch 136/300\n",
            "1563/1563 [==============================] - 5s 3ms/step - loss: 0.0475 - accuracy: 0.9854 - val_loss: 0.5433 - val_accuracy: 0.8905\n",
            "Epoch 137/300\n",
            "1563/1563 [==============================] - 5s 3ms/step - loss: 0.0436 - accuracy: 0.9862 - val_loss: 0.5675 - val_accuracy: 0.8887\n",
            "Epoch 138/300\n",
            "1563/1563 [==============================] - 5s 3ms/step - loss: 0.0502 - accuracy: 0.9845 - val_loss: 0.5457 - val_accuracy: 0.8886\n",
            "Epoch 139/300\n",
            "1563/1563 [==============================] - 5s 3ms/step - loss: 0.0523 - accuracy: 0.9837 - val_loss: 0.5347 - val_accuracy: 0.8878\n",
            "Epoch 140/300\n",
            "1563/1563 [==============================] - 5s 3ms/step - loss: 0.0442 - accuracy: 0.9864 - val_loss: 0.5527 - val_accuracy: 0.8932\n",
            "Epoch 141/300\n",
            "1563/1563 [==============================] - 5s 3ms/step - loss: 0.0453 - accuracy: 0.9859 - val_loss: 0.5456 - val_accuracy: 0.8940\n",
            "Epoch 142/300\n",
            "1563/1563 [==============================] - 5s 3ms/step - loss: 0.0540 - accuracy: 0.9832 - val_loss: 0.5582 - val_accuracy: 0.8886\n",
            "Epoch 143/300\n",
            "1563/1563 [==============================] - 5s 3ms/step - loss: 0.0399 - accuracy: 0.9877 - val_loss: 0.5739 - val_accuracy: 0.8923\n",
            "Epoch 144/300\n",
            "1563/1563 [==============================] - 5s 3ms/step - loss: 0.0500 - accuracy: 0.9846 - val_loss: 0.5589 - val_accuracy: 0.8917\n",
            "Epoch 145/300\n",
            "1563/1563 [==============================] - 5s 3ms/step - loss: 0.0515 - accuracy: 0.9847 - val_loss: 0.5635 - val_accuracy: 0.8883\n",
            "Epoch 146/300\n",
            "1563/1563 [==============================] - 5s 3ms/step - loss: 0.0524 - accuracy: 0.9842 - val_loss: 0.5609 - val_accuracy: 0.8916\n",
            "Epoch 147/300\n",
            "1563/1563 [==============================] - 5s 3ms/step - loss: 0.0464 - accuracy: 0.9860 - val_loss: 0.5655 - val_accuracy: 0.8848\n",
            "Epoch 148/300\n",
            "1563/1563 [==============================] - 5s 3ms/step - loss: 0.0428 - accuracy: 0.9874 - val_loss: 0.5722 - val_accuracy: 0.8940\n",
            "Epoch 149/300\n",
            "1563/1563 [==============================] - 5s 3ms/step - loss: 0.0544 - accuracy: 0.9833 - val_loss: 0.5768 - val_accuracy: 0.8852\n",
            "Epoch 150/300\n",
            "1563/1563 [==============================] - 5s 3ms/step - loss: 0.0486 - accuracy: 0.9850 - val_loss: 0.5680 - val_accuracy: 0.8890\n",
            "Epoch 151/300\n",
            "1563/1563 [==============================] - 5s 3ms/step - loss: 0.0420 - accuracy: 0.9873 - val_loss: 0.5549 - val_accuracy: 0.8924\n",
            "Epoch 152/300\n",
            "1563/1563 [==============================] - 5s 3ms/step - loss: 0.0507 - accuracy: 0.9843 - val_loss: 0.5512 - val_accuracy: 0.8878\n",
            "Epoch 153/300\n",
            "1563/1563 [==============================] - 5s 3ms/step - loss: 0.0427 - accuracy: 0.9872 - val_loss: 0.6215 - val_accuracy: 0.8828\n",
            "Epoch 154/300\n",
            "1563/1563 [==============================] - 5s 3ms/step - loss: 0.0476 - accuracy: 0.9856 - val_loss: 0.5970 - val_accuracy: 0.8870\n",
            "Epoch 155/300\n",
            "1563/1563 [==============================] - 5s 3ms/step - loss: 0.0525 - accuracy: 0.9839 - val_loss: 0.5694 - val_accuracy: 0.8911\n",
            "Epoch 156/300\n",
            "1563/1563 [==============================] - 5s 3ms/step - loss: 0.0473 - accuracy: 0.9860 - val_loss: 0.5435 - val_accuracy: 0.8933\n",
            "Epoch 157/300\n",
            "1563/1563 [==============================] - 5s 3ms/step - loss: 0.0393 - accuracy: 0.9886 - val_loss: 0.5870 - val_accuracy: 0.8876\n",
            "Epoch 158/300\n",
            "1563/1563 [==============================] - 5s 3ms/step - loss: 0.0507 - accuracy: 0.9844 - val_loss: 0.5491 - val_accuracy: 0.8898\n",
            "Epoch 159/300\n",
            "1563/1563 [==============================] - 5s 3ms/step - loss: 0.0437 - accuracy: 0.9867 - val_loss: 0.5628 - val_accuracy: 0.8914\n",
            "Epoch 160/300\n",
            "1563/1563 [==============================] - 5s 3ms/step - loss: 0.0540 - accuracy: 0.9838 - val_loss: 0.5870 - val_accuracy: 0.8885\n",
            "Epoch 161/300\n",
            "1563/1563 [==============================] - 5s 3ms/step - loss: 0.0484 - accuracy: 0.9850 - val_loss: 0.5599 - val_accuracy: 0.8913\n",
            "Epoch 162/300\n",
            "1563/1563 [==============================] - 5s 3ms/step - loss: 0.0453 - accuracy: 0.9856 - val_loss: 0.5577 - val_accuracy: 0.8898\n",
            "Epoch 163/300\n",
            "1563/1563 [==============================] - 5s 3ms/step - loss: 0.0426 - accuracy: 0.9868 - val_loss: 0.5617 - val_accuracy: 0.8916\n",
            "Epoch 164/300\n",
            "1563/1563 [==============================] - 5s 3ms/step - loss: 0.0475 - accuracy: 0.9863 - val_loss: 0.5625 - val_accuracy: 0.8906\n",
            "Epoch 165/300\n",
            "1563/1563 [==============================] - 5s 3ms/step - loss: 0.0450 - accuracy: 0.9862 - val_loss: 0.5700 - val_accuracy: 0.8881\n",
            "Epoch 166/300\n",
            "1563/1563 [==============================] - 5s 3ms/step - loss: 0.0444 - accuracy: 0.9865 - val_loss: 0.5528 - val_accuracy: 0.8901\n",
            "Epoch 167/300\n",
            "1563/1563 [==============================] - 5s 4ms/step - loss: 0.0509 - accuracy: 0.9845 - val_loss: 0.6098 - val_accuracy: 0.8811\n",
            "Epoch 168/300\n",
            "1563/1563 [==============================] - 5s 3ms/step - loss: 0.0480 - accuracy: 0.9859 - val_loss: 0.5571 - val_accuracy: 0.8899\n",
            "Epoch 169/300\n",
            "1563/1563 [==============================] - 5s 3ms/step - loss: 0.0473 - accuracy: 0.9862 - val_loss: 0.5719 - val_accuracy: 0.8882\n",
            "Epoch 170/300\n",
            "1563/1563 [==============================] - 5s 3ms/step - loss: 0.0511 - accuracy: 0.9847 - val_loss: 0.5778 - val_accuracy: 0.8880\n",
            "Epoch 171/300\n",
            "1563/1563 [==============================] - 5s 3ms/step - loss: 0.0458 - accuracy: 0.9864 - val_loss: 0.5357 - val_accuracy: 0.8906\n",
            "Epoch 172/300\n",
            "1563/1563 [==============================] - 5s 3ms/step - loss: 0.0423 - accuracy: 0.9872 - val_loss: 0.5711 - val_accuracy: 0.8877\n",
            "Epoch 173/300\n",
            "1563/1563 [==============================] - 5s 3ms/step - loss: 0.0494 - accuracy: 0.9849 - val_loss: 0.5405 - val_accuracy: 0.8939\n",
            "Epoch 174/300\n",
            "1563/1563 [==============================] - 5s 3ms/step - loss: 0.0452 - accuracy: 0.9862 - val_loss: 0.5625 - val_accuracy: 0.8913\n",
            "Epoch 175/300\n",
            "1563/1563 [==============================] - 5s 4ms/step - loss: 0.0413 - accuracy: 0.9874 - val_loss: 0.6027 - val_accuracy: 0.8873\n",
            "Epoch 176/300\n",
            "1563/1563 [==============================] - 5s 3ms/step - loss: 0.0437 - accuracy: 0.9868 - val_loss: 0.5506 - val_accuracy: 0.8913\n",
            "Epoch 177/300\n",
            "1563/1563 [==============================] - 5s 3ms/step - loss: 0.0502 - accuracy: 0.9846 - val_loss: 0.5749 - val_accuracy: 0.8866\n",
            "Epoch 178/300\n",
            "1563/1563 [==============================] - 5s 3ms/step - loss: 0.0421 - accuracy: 0.9872 - val_loss: 0.5544 - val_accuracy: 0.8930\n",
            "Epoch 179/300\n",
            "1563/1563 [==============================] - 5s 3ms/step - loss: 0.0454 - accuracy: 0.9862 - val_loss: 0.5515 - val_accuracy: 0.8932\n",
            "Epoch 180/300\n",
            "1563/1563 [==============================] - 5s 4ms/step - loss: 0.0473 - accuracy: 0.9858 - val_loss: 0.5764 - val_accuracy: 0.8897\n",
            "Epoch 181/300\n",
            "1563/1563 [==============================] - 5s 3ms/step - loss: 0.0459 - accuracy: 0.9859 - val_loss: 0.5941 - val_accuracy: 0.8870\n",
            "Epoch 182/300\n",
            "1563/1563 [==============================] - 5s 3ms/step - loss: 0.0466 - accuracy: 0.9859 - val_loss: 0.5654 - val_accuracy: 0.8894\n",
            "Epoch 183/300\n",
            "1563/1563 [==============================] - 5s 3ms/step - loss: 0.0503 - accuracy: 0.9851 - val_loss: 0.6001 - val_accuracy: 0.8869\n",
            "Epoch 184/300\n",
            "1563/1563 [==============================] - 5s 3ms/step - loss: 0.0433 - accuracy: 0.9868 - val_loss: 0.5880 - val_accuracy: 0.8876\n",
            "Epoch 185/300\n",
            "1563/1563 [==============================] - 5s 3ms/step - loss: 0.0405 - accuracy: 0.9876 - val_loss: 0.5770 - val_accuracy: 0.8881\n",
            "Epoch 186/300\n",
            "1563/1563 [==============================] - 5s 3ms/step - loss: 0.0486 - accuracy: 0.9855 - val_loss: 0.5844 - val_accuracy: 0.8900\n",
            "Epoch 187/300\n",
            "1563/1563 [==============================] - 5s 3ms/step - loss: 0.0467 - accuracy: 0.9856 - val_loss: 0.5671 - val_accuracy: 0.8887\n",
            "Epoch 188/300\n",
            "1563/1563 [==============================] - 5s 4ms/step - loss: 0.0379 - accuracy: 0.9889 - val_loss: 0.5757 - val_accuracy: 0.8887\n",
            "Epoch 189/300\n",
            "1563/1563 [==============================] - 5s 3ms/step - loss: 0.0482 - accuracy: 0.9846 - val_loss: 0.5903 - val_accuracy: 0.8906\n",
            "Epoch 190/300\n",
            "1563/1563 [==============================] - 5s 3ms/step - loss: 0.0438 - accuracy: 0.9865 - val_loss: 0.5811 - val_accuracy: 0.8846\n",
            "Epoch 191/300\n",
            "1563/1563 [==============================] - 5s 3ms/step - loss: 0.0420 - accuracy: 0.9871 - val_loss: 0.6262 - val_accuracy: 0.8852\n",
            "Epoch 192/300\n",
            "1563/1563 [==============================] - 5s 3ms/step - loss: 0.0506 - accuracy: 0.9842 - val_loss: 0.6014 - val_accuracy: 0.8884\n",
            "Epoch 193/300\n",
            "1563/1563 [==============================] - 5s 3ms/step - loss: 0.0403 - accuracy: 0.9874 - val_loss: 0.5792 - val_accuracy: 0.8925\n",
            "Epoch 194/300\n",
            "1563/1563 [==============================] - 5s 3ms/step - loss: 0.0495 - accuracy: 0.9850 - val_loss: 0.5472 - val_accuracy: 0.8900\n",
            "Epoch 195/300\n",
            "1563/1563 [==============================] - 5s 3ms/step - loss: 0.0402 - accuracy: 0.9876 - val_loss: 0.5650 - val_accuracy: 0.8898\n",
            "Epoch 196/300\n",
            "1563/1563 [==============================] - 5s 3ms/step - loss: 0.0512 - accuracy: 0.9848 - val_loss: 0.5743 - val_accuracy: 0.8847\n",
            "Epoch 197/300\n",
            "1563/1563 [==============================] - 5s 3ms/step - loss: 0.0458 - accuracy: 0.9858 - val_loss: 0.5465 - val_accuracy: 0.8931\n",
            "Epoch 198/300\n",
            "1563/1563 [==============================] - 5s 3ms/step - loss: 0.0457 - accuracy: 0.9865 - val_loss: 0.5895 - val_accuracy: 0.8859\n",
            "Epoch 199/300\n",
            "1563/1563 [==============================] - 5s 4ms/step - loss: 0.0442 - accuracy: 0.9870 - val_loss: 0.5775 - val_accuracy: 0.8922\n",
            "Epoch 200/300\n",
            "1563/1563 [==============================] - 6s 4ms/step - loss: 0.0390 - accuracy: 0.9883 - val_loss: 0.5747 - val_accuracy: 0.8913\n",
            "Epoch 201/300\n",
            "1563/1563 [==============================] - 5s 3ms/step - loss: 0.0429 - accuracy: 0.9872 - val_loss: 0.5748 - val_accuracy: 0.8859\n",
            "Epoch 202/300\n",
            "1563/1563 [==============================] - 5s 3ms/step - loss: 0.0453 - accuracy: 0.9862 - val_loss: 0.5459 - val_accuracy: 0.8953\n",
            "Epoch 203/300\n",
            "1563/1563 [==============================] - 5s 3ms/step - loss: 0.0375 - accuracy: 0.9886 - val_loss: 0.5918 - val_accuracy: 0.8890\n",
            "Epoch 204/300\n",
            "1563/1563 [==============================] - 5s 3ms/step - loss: 0.0484 - accuracy: 0.9851 - val_loss: 0.6004 - val_accuracy: 0.8868\n",
            "Epoch 205/300\n",
            "1563/1563 [==============================] - 5s 3ms/step - loss: 0.0477 - accuracy: 0.9857 - val_loss: 0.5705 - val_accuracy: 0.8926\n",
            "Epoch 206/300\n",
            "1563/1563 [==============================] - 5s 3ms/step - loss: 0.0412 - accuracy: 0.9879 - val_loss: 0.5730 - val_accuracy: 0.8894\n",
            "Epoch 207/300\n",
            "1563/1563 [==============================] - 5s 3ms/step - loss: 0.0526 - accuracy: 0.9847 - val_loss: 0.5583 - val_accuracy: 0.8907\n",
            "Epoch 208/300\n",
            "1563/1563 [==============================] - 5s 3ms/step - loss: 0.0418 - accuracy: 0.9879 - val_loss: 0.6279 - val_accuracy: 0.8858\n",
            "Epoch 209/300\n",
            "1563/1563 [==============================] - 5s 3ms/step - loss: 0.0452 - accuracy: 0.9861 - val_loss: 0.5463 - val_accuracy: 0.8939\n",
            "Epoch 210/300\n",
            "1563/1563 [==============================] - 5s 3ms/step - loss: 0.0450 - accuracy: 0.9864 - val_loss: 0.5764 - val_accuracy: 0.8881\n",
            "Epoch 211/300\n",
            "1563/1563 [==============================] - 5s 3ms/step - loss: 0.0528 - accuracy: 0.9847 - val_loss: 0.5778 - val_accuracy: 0.8920\n",
            "Epoch 212/300\n",
            "1563/1563 [==============================] - 5s 3ms/step - loss: 0.0405 - accuracy: 0.9879 - val_loss: 0.5730 - val_accuracy: 0.8901\n",
            "Epoch 213/300\n",
            "1563/1563 [==============================] - 5s 3ms/step - loss: 0.0463 - accuracy: 0.9859 - val_loss: 0.6135 - val_accuracy: 0.8861\n",
            "Epoch 214/300\n",
            "1563/1563 [==============================] - 5s 3ms/step - loss: 0.0447 - accuracy: 0.9861 - val_loss: 0.5778 - val_accuracy: 0.8902\n",
            "Epoch 215/300\n",
            "1563/1563 [==============================] - 6s 4ms/step - loss: 0.0421 - accuracy: 0.9872 - val_loss: 0.5615 - val_accuracy: 0.8932\n",
            "Epoch 216/300\n",
            "1563/1563 [==============================] - 6s 4ms/step - loss: 0.0416 - accuracy: 0.9876 - val_loss: 0.5880 - val_accuracy: 0.8875\n",
            "Epoch 217/300\n",
            "1563/1563 [==============================] - 5s 3ms/step - loss: 0.0412 - accuracy: 0.9877 - val_loss: 0.5790 - val_accuracy: 0.8886\n",
            "Epoch 218/300\n",
            "1563/1563 [==============================] - 5s 3ms/step - loss: 0.0419 - accuracy: 0.9878 - val_loss: 0.5668 - val_accuracy: 0.8904\n",
            "Epoch 219/300\n",
            "1563/1563 [==============================] - 5s 4ms/step - loss: 0.0347 - accuracy: 0.9896 - val_loss: 0.5963 - val_accuracy: 0.8906\n",
            "Epoch 220/300\n",
            "1563/1563 [==============================] - 5s 4ms/step - loss: 0.0422 - accuracy: 0.9872 - val_loss: 0.5957 - val_accuracy: 0.8913\n",
            "Epoch 221/300\n",
            "1563/1563 [==============================] - 5s 3ms/step - loss: 0.0494 - accuracy: 0.9852 - val_loss: 0.5693 - val_accuracy: 0.8908\n",
            "Epoch 222/300\n",
            "1563/1563 [==============================] - 5s 3ms/step - loss: 0.0497 - accuracy: 0.9853 - val_loss: 0.5712 - val_accuracy: 0.8906\n",
            "Epoch 223/300\n",
            "1563/1563 [==============================] - 6s 4ms/step - loss: 0.0421 - accuracy: 0.9874 - val_loss: 0.5765 - val_accuracy: 0.8906\n",
            "Epoch 224/300\n",
            "1563/1563 [==============================] - 6s 4ms/step - loss: 0.0577 - accuracy: 0.9835 - val_loss: 0.5464 - val_accuracy: 0.8945\n",
            "Epoch 225/300\n",
            "1563/1563 [==============================] - 6s 4ms/step - loss: 0.0349 - accuracy: 0.9902 - val_loss: 0.5620 - val_accuracy: 0.8934\n",
            "Epoch 226/300\n",
            "1563/1563 [==============================] - 5s 3ms/step - loss: 0.0412 - accuracy: 0.9874 - val_loss: 0.5690 - val_accuracy: 0.8918\n",
            "Epoch 227/300\n",
            "1563/1563 [==============================] - 5s 3ms/step - loss: 0.0507 - accuracy: 0.9849 - val_loss: 0.5485 - val_accuracy: 0.8889\n",
            "Epoch 228/300\n",
            "1563/1563 [==============================] - 5s 3ms/step - loss: 0.0438 - accuracy: 0.9871 - val_loss: 0.5473 - val_accuracy: 0.8902\n",
            "Epoch 229/300\n",
            "1563/1563 [==============================] - 6s 4ms/step - loss: 0.0446 - accuracy: 0.9866 - val_loss: 0.5937 - val_accuracy: 0.8887\n",
            "Epoch 230/300\n",
            "1563/1563 [==============================] - 5s 3ms/step - loss: 0.0424 - accuracy: 0.9876 - val_loss: 0.5963 - val_accuracy: 0.8845\n",
            "Epoch 231/300\n",
            "1563/1563 [==============================] - 5s 3ms/step - loss: 0.0482 - accuracy: 0.9861 - val_loss: 0.6086 - val_accuracy: 0.8842\n",
            "Epoch 232/300\n",
            "1563/1563 [==============================] - 5s 3ms/step - loss: 0.0414 - accuracy: 0.9874 - val_loss: 0.5607 - val_accuracy: 0.8935\n",
            "Epoch 233/300\n",
            "1563/1563 [==============================] - 5s 3ms/step - loss: 0.0387 - accuracy: 0.9885 - val_loss: 0.5681 - val_accuracy: 0.8871\n",
            "Epoch 234/300\n",
            "1563/1563 [==============================] - 6s 4ms/step - loss: 0.0436 - accuracy: 0.9876 - val_loss: 0.5685 - val_accuracy: 0.8944\n",
            "Epoch 235/300\n",
            "1563/1563 [==============================] - 5s 3ms/step - loss: 0.0398 - accuracy: 0.9880 - val_loss: 0.5873 - val_accuracy: 0.8903\n",
            "Epoch 236/300\n",
            "1563/1563 [==============================] - 5s 4ms/step - loss: 0.0413 - accuracy: 0.9882 - val_loss: 0.5726 - val_accuracy: 0.8870\n",
            "Epoch 237/300\n",
            "1563/1563 [==============================] - 5s 3ms/step - loss: 0.0457 - accuracy: 0.9863 - val_loss: 0.5619 - val_accuracy: 0.8909\n",
            "Epoch 238/300\n",
            "1563/1563 [==============================] - 5s 3ms/step - loss: 0.0449 - accuracy: 0.9866 - val_loss: 0.5694 - val_accuracy: 0.8906\n",
            "Epoch 239/300\n",
            "1563/1563 [==============================] - 5s 3ms/step - loss: 0.0419 - accuracy: 0.9874 - val_loss: 0.5645 - val_accuracy: 0.8922\n",
            "Epoch 240/300\n",
            "1563/1563 [==============================] - 5s 3ms/step - loss: 0.0390 - accuracy: 0.9881 - val_loss: 0.5829 - val_accuracy: 0.8917\n",
            "Epoch 241/300\n",
            "1563/1563 [==============================] - 5s 3ms/step - loss: 0.0431 - accuracy: 0.9874 - val_loss: 0.5535 - val_accuracy: 0.8936\n",
            "Epoch 242/300\n",
            "1563/1563 [==============================] - 5s 4ms/step - loss: 0.0484 - accuracy: 0.9858 - val_loss: 0.5790 - val_accuracy: 0.8919\n",
            "Epoch 243/300\n",
            "1563/1563 [==============================] - 5s 3ms/step - loss: 0.0438 - accuracy: 0.9867 - val_loss: 0.5559 - val_accuracy: 0.8929\n",
            "Epoch 244/300\n",
            "1563/1563 [==============================] - 5s 3ms/step - loss: 0.0411 - accuracy: 0.9878 - val_loss: 0.5787 - val_accuracy: 0.8913\n",
            "Epoch 245/300\n",
            "1563/1563 [==============================] - 6s 4ms/step - loss: 0.0419 - accuracy: 0.9880 - val_loss: 0.5754 - val_accuracy: 0.8920\n",
            "Epoch 246/300\n",
            "1563/1563 [==============================] - 5s 4ms/step - loss: 0.0470 - accuracy: 0.9860 - val_loss: 0.5726 - val_accuracy: 0.8915\n",
            "Epoch 247/300\n",
            "1563/1563 [==============================] - 5s 3ms/step - loss: 0.0537 - accuracy: 0.9841 - val_loss: 0.5589 - val_accuracy: 0.8900\n",
            "Epoch 248/300\n",
            "1563/1563 [==============================] - 5s 3ms/step - loss: 0.0395 - accuracy: 0.9881 - val_loss: 0.5859 - val_accuracy: 0.8909\n",
            "Epoch 249/300\n",
            "1563/1563 [==============================] - 5s 3ms/step - loss: 0.0331 - accuracy: 0.9909 - val_loss: 0.5890 - val_accuracy: 0.8881\n",
            "Epoch 250/300\n",
            "1563/1563 [==============================] - 5s 3ms/step - loss: 0.0524 - accuracy: 0.9844 - val_loss: 0.5703 - val_accuracy: 0.8913\n",
            "Epoch 251/300\n",
            "1563/1563 [==============================] - 5s 3ms/step - loss: 0.0411 - accuracy: 0.9886 - val_loss: 0.5740 - val_accuracy: 0.8896\n",
            "Epoch 252/300\n",
            "1563/1563 [==============================] - 5s 3ms/step - loss: 0.0393 - accuracy: 0.9887 - val_loss: 0.5872 - val_accuracy: 0.8886\n",
            "Epoch 253/300\n",
            "1563/1563 [==============================] - 5s 3ms/step - loss: 0.0410 - accuracy: 0.9884 - val_loss: 0.5860 - val_accuracy: 0.8894\n",
            "Epoch 254/300\n",
            "1563/1563 [==============================] - 6s 4ms/step - loss: 0.0471 - accuracy: 0.9863 - val_loss: 0.5753 - val_accuracy: 0.8858\n",
            "Epoch 255/300\n",
            "1563/1563 [==============================] - 6s 4ms/step - loss: 0.0508 - accuracy: 0.9854 - val_loss: 0.5808 - val_accuracy: 0.8867\n",
            "Epoch 256/300\n",
            "1563/1563 [==============================] - 6s 4ms/step - loss: 0.0352 - accuracy: 0.9899 - val_loss: 0.5734 - val_accuracy: 0.8926\n",
            "Epoch 257/300\n",
            "1563/1563 [==============================] - 6s 4ms/step - loss: 0.0448 - accuracy: 0.9867 - val_loss: 0.5799 - val_accuracy: 0.8903\n",
            "Epoch 258/300\n",
            "1563/1563 [==============================] - 5s 3ms/step - loss: 0.0452 - accuracy: 0.9863 - val_loss: 0.5771 - val_accuracy: 0.8882\n",
            "Epoch 259/300\n",
            "1563/1563 [==============================] - 6s 4ms/step - loss: 0.0500 - accuracy: 0.9848 - val_loss: 0.5850 - val_accuracy: 0.8894\n",
            "Epoch 260/300\n",
            "1563/1563 [==============================] - 6s 4ms/step - loss: 0.0458 - accuracy: 0.9863 - val_loss: 0.5821 - val_accuracy: 0.8897\n",
            "Epoch 261/300\n",
            "1563/1563 [==============================] - 6s 4ms/step - loss: 0.0400 - accuracy: 0.9886 - val_loss: 0.5807 - val_accuracy: 0.8888\n",
            "Epoch 262/300\n",
            "1563/1563 [==============================] - 6s 4ms/step - loss: 0.0482 - accuracy: 0.9862 - val_loss: 0.5822 - val_accuracy: 0.8885\n",
            "Epoch 263/300\n",
            "1563/1563 [==============================] - 5s 3ms/step - loss: 0.0436 - accuracy: 0.9871 - val_loss: 0.5947 - val_accuracy: 0.8886\n",
            "Epoch 264/300\n",
            "1563/1563 [==============================] - 5s 3ms/step - loss: 0.0486 - accuracy: 0.9863 - val_loss: 0.5944 - val_accuracy: 0.8882\n",
            "Epoch 265/300\n",
            "1563/1563 [==============================] - 6s 4ms/step - loss: 0.0505 - accuracy: 0.9854 - val_loss: 0.5768 - val_accuracy: 0.8919\n",
            "Epoch 266/300\n",
            "1563/1563 [==============================] - 6s 4ms/step - loss: 0.0440 - accuracy: 0.9874 - val_loss: 0.5630 - val_accuracy: 0.8920\n",
            "Epoch 267/300\n",
            "1563/1563 [==============================] - 6s 4ms/step - loss: 0.0431 - accuracy: 0.9879 - val_loss: 0.6226 - val_accuracy: 0.8834\n",
            "Epoch 268/300\n",
            "1563/1563 [==============================] - 6s 4ms/step - loss: 0.0407 - accuracy: 0.9878 - val_loss: 0.6017 - val_accuracy: 0.8873\n",
            "Epoch 269/300\n",
            "1563/1563 [==============================] - 6s 4ms/step - loss: 0.0458 - accuracy: 0.9863 - val_loss: 0.6339 - val_accuracy: 0.8824\n",
            "Epoch 270/300\n",
            "1563/1563 [==============================] - 5s 4ms/step - loss: 0.0381 - accuracy: 0.9891 - val_loss: 0.6021 - val_accuracy: 0.8910\n",
            "Epoch 271/300\n",
            "1563/1563 [==============================] - 6s 4ms/step - loss: 0.0481 - accuracy: 0.9858 - val_loss: 0.5505 - val_accuracy: 0.8901\n",
            "Epoch 272/300\n",
            "1563/1563 [==============================] - 6s 4ms/step - loss: 0.0418 - accuracy: 0.9875 - val_loss: 0.5723 - val_accuracy: 0.8915\n",
            "Epoch 273/300\n",
            "1563/1563 [==============================] - 6s 4ms/step - loss: 0.0433 - accuracy: 0.9876 - val_loss: 0.6178 - val_accuracy: 0.8864\n",
            "Epoch 274/300\n",
            "1563/1563 [==============================] - 5s 3ms/step - loss: 0.0482 - accuracy: 0.9863 - val_loss: 0.6040 - val_accuracy: 0.8858\n",
            "Epoch 275/300\n",
            "1563/1563 [==============================] - 5s 3ms/step - loss: 0.0459 - accuracy: 0.9865 - val_loss: 0.5898 - val_accuracy: 0.8886\n",
            "Epoch 276/300\n",
            "1563/1563 [==============================] - 6s 4ms/step - loss: 0.0471 - accuracy: 0.9861 - val_loss: 0.5790 - val_accuracy: 0.8900\n",
            "Epoch 277/300\n",
            "1563/1563 [==============================] - 5s 3ms/step - loss: 0.0419 - accuracy: 0.9880 - val_loss: 0.5692 - val_accuracy: 0.8887\n",
            "Epoch 278/300\n",
            "1563/1563 [==============================] - 6s 4ms/step - loss: 0.0373 - accuracy: 0.9893 - val_loss: 0.5701 - val_accuracy: 0.8894\n",
            "Epoch 279/300\n",
            "1563/1563 [==============================] - 5s 4ms/step - loss: 0.0476 - accuracy: 0.9866 - val_loss: 0.5945 - val_accuracy: 0.8878\n",
            "Epoch 280/300\n",
            "1563/1563 [==============================] - 6s 4ms/step - loss: 0.0534 - accuracy: 0.9844 - val_loss: 0.5568 - val_accuracy: 0.8879\n",
            "Epoch 281/300\n",
            "1563/1563 [==============================] - 5s 3ms/step - loss: 0.0393 - accuracy: 0.9881 - val_loss: 0.5775 - val_accuracy: 0.8885\n",
            "Epoch 282/300\n",
            "1563/1563 [==============================] - 5s 3ms/step - loss: 0.0525 - accuracy: 0.9836 - val_loss: 0.5891 - val_accuracy: 0.8863\n",
            "Epoch 283/300\n",
            "1563/1563 [==============================] - 5s 3ms/step - loss: 0.0425 - accuracy: 0.9869 - val_loss: 0.5675 - val_accuracy: 0.8931\n",
            "Epoch 284/300\n",
            "1563/1563 [==============================] - 6s 4ms/step - loss: 0.0436 - accuracy: 0.9868 - val_loss: 0.5909 - val_accuracy: 0.8851\n",
            "Epoch 285/300\n",
            "1563/1563 [==============================] - 6s 4ms/step - loss: 0.0433 - accuracy: 0.9869 - val_loss: 0.5732 - val_accuracy: 0.8917\n",
            "Epoch 286/300\n",
            "1563/1563 [==============================] - 5s 3ms/step - loss: 0.0407 - accuracy: 0.9875 - val_loss: 0.5725 - val_accuracy: 0.8867\n",
            "Epoch 287/300\n",
            "1563/1563 [==============================] - 6s 4ms/step - loss: 0.0482 - accuracy: 0.9856 - val_loss: 0.5798 - val_accuracy: 0.8875\n",
            "Epoch 288/300\n",
            "1563/1563 [==============================] - 6s 4ms/step - loss: 0.0456 - accuracy: 0.9868 - val_loss: 0.5899 - val_accuracy: 0.8879\n",
            "Epoch 289/300\n",
            "1563/1563 [==============================] - 6s 4ms/step - loss: 0.0479 - accuracy: 0.9861 - val_loss: 0.5764 - val_accuracy: 0.8906\n",
            "Epoch 290/300\n",
            "1563/1563 [==============================] - 6s 4ms/step - loss: 0.0390 - accuracy: 0.9889 - val_loss: 0.6016 - val_accuracy: 0.8856\n",
            "Epoch 291/300\n",
            "1563/1563 [==============================] - 6s 4ms/step - loss: 0.0486 - accuracy: 0.9858 - val_loss: 0.6046 - val_accuracy: 0.8854\n",
            "Epoch 292/300\n",
            "1563/1563 [==============================] - 6s 4ms/step - loss: 0.0450 - accuracy: 0.9868 - val_loss: 0.5757 - val_accuracy: 0.8889\n",
            "Epoch 293/300\n",
            "1563/1563 [==============================] - 5s 4ms/step - loss: 0.0432 - accuracy: 0.9875 - val_loss: 0.5664 - val_accuracy: 0.8922\n",
            "Epoch 294/300\n",
            "1563/1563 [==============================] - 6s 4ms/step - loss: 0.0419 - accuracy: 0.9877 - val_loss: 0.5650 - val_accuracy: 0.8924\n",
            "Epoch 295/300\n",
            "1563/1563 [==============================] - 6s 4ms/step - loss: 0.0417 - accuracy: 0.9878 - val_loss: 0.5717 - val_accuracy: 0.8915\n",
            "Epoch 296/300\n",
            "1563/1563 [==============================] - 6s 4ms/step - loss: 0.0528 - accuracy: 0.9836 - val_loss: 0.5846 - val_accuracy: 0.8863\n",
            "Epoch 297/300\n",
            "1563/1563 [==============================] - 6s 4ms/step - loss: 0.0414 - accuracy: 0.9876 - val_loss: 0.5758 - val_accuracy: 0.8916\n",
            "Epoch 298/300\n",
            "1563/1563 [==============================] - 6s 4ms/step - loss: 0.0438 - accuracy: 0.9871 - val_loss: 0.5832 - val_accuracy: 0.8899\n",
            "Epoch 299/300\n",
            "1563/1563 [==============================] - 6s 4ms/step - loss: 0.0572 - accuracy: 0.9828 - val_loss: 0.5773 - val_accuracy: 0.8878\n",
            "Epoch 300/300\n",
            "1563/1563 [==============================] - 5s 3ms/step - loss: 0.0424 - accuracy: 0.9879 - val_loss: 0.5568 - val_accuracy: 0.8931\n"
          ],
          "name": "stdout"
        },
        {
          "output_type": "execute_result",
          "data": {
            "text/plain": [
              "<tensorflow.python.keras.callbacks.History at 0x7f668c9ce090>"
            ]
          },
          "metadata": {
            "tags": []
          },
          "execution_count": 72
        }
      ]
    },
    {
      "cell_type": "code",
      "metadata": {
        "colab": {
          "base_uri": "https://localhost:8080/"
        },
        "id": "HsUht3LyDfIe",
        "outputId": "7b416a14-1232-4f78-93e2-ec8b4e03fb45"
      },
      "source": [
        "history = model.fit(X_train, y_train, epochs = 5, validation_data=(X_valid, y_valid))"
      ],
      "execution_count": 74,
      "outputs": [
        {
          "output_type": "stream",
          "text": [
            "Epoch 1/5\n",
            "1563/1563 [==============================] - 5s 3ms/step - loss: 0.0511 - accuracy: 0.9842 - val_loss: 0.5575 - val_accuracy: 0.8896\n",
            "Epoch 2/5\n",
            "1563/1563 [==============================] - 5s 3ms/step - loss: 0.0380 - accuracy: 0.9886 - val_loss: 0.5767 - val_accuracy: 0.8893\n",
            "Epoch 3/5\n",
            "1563/1563 [==============================] - 5s 3ms/step - loss: 0.0500 - accuracy: 0.9857 - val_loss: 0.6074 - val_accuracy: 0.8842\n",
            "Epoch 4/5\n",
            "1563/1563 [==============================] - 5s 3ms/step - loss: 0.0443 - accuracy: 0.9870 - val_loss: 0.5746 - val_accuracy: 0.8885\n",
            "Epoch 5/5\n",
            "1563/1563 [==============================] - 5s 3ms/step - loss: 0.0471 - accuracy: 0.9860 - val_loss: 0.5874 - val_accuracy: 0.8879\n"
          ],
          "name": "stdout"
        }
      ]
    },
    {
      "cell_type": "code",
      "metadata": {
        "colab": {
          "base_uri": "https://localhost:8080/",
          "height": 324
        },
        "id": "EaxUgyK0-WOz",
        "outputId": "1f3076fa-b7b7-4315-d5ee-c716d9c5a27d"
      },
      "source": [
        "import pandas as pd\n",
        "\n",
        "pd.DataFrame(history.history).plot(figsize=(8,5))\n",
        "plt.grid(True)\n",
        "plt.gca().set_ylim(0,1) # set the limit of y_Axis = 0 to 1\n",
        "plt.show()\n"
      ],
      "execution_count": 75,
      "outputs": [
        {
          "output_type": "display_data",
          "data": {
            "image/png": "[encoded data removed]",
            "text/plain": [
              "<Figure size 576x360 with 1 Axes>"
            ]
          },
          "metadata": {
            "tags": [],
            "needs_background": "light"
          }
        }
      ]
    },
    {
      "cell_type": "code",
      "metadata": {
        "colab": {
          "base_uri": "https://localhost:8080/"
        },
        "id": "Cmx6UG0EAWoI",
        "outputId": "82b14d2d-f32c-4a6d-dc27-3495888a2711"
      },
      "source": [
        "model.evaluate(X_test, y_test)"
      ],
      "execution_count": 76,
      "outputs": [
        {
          "output_type": "stream",
          "text": [
            "313/313 [==============================] - 1s 3ms/step - loss: 0.6434 - accuracy: 0.8794\n"
          ],
          "name": "stdout"
        },
        {
          "output_type": "execute_result",
          "data": {
            "text/plain": [
              "[0.643398642539978, 0.8794000148773193]"
            ]
          },
          "metadata": {
            "tags": []
          },
          "execution_count": 76
        }
      ]
    },
    {
      "cell_type": "markdown",
      "metadata": {
        "id": "Qbdh-dvYBmNQ"
      },
      "source": [
        "Use the model to make predictions"
      ]
    },
    {
      "cell_type": "code",
      "metadata": {
        "id": "sVTLxZyjAbvs"
      },
      "source": [
        "X_new = X_test[:3]"
      ],
      "execution_count": 77,
      "outputs": []
    },
    {
      "cell_type": "code",
      "metadata": {
        "id": "jr-Ke5O4BwWD"
      },
      "source": [
        "y_pred = model.predict(X_new)"
      ],
      "execution_count": 78,
      "outputs": []
    },
    {
      "cell_type": "code",
      "metadata": {
        "colab": {
          "base_uri": "https://localhost:8080/"
        },
        "id": "LnfVlpBpCU4W",
        "outputId": "afbf8c73-cf31-47b0-9ada-8976501076f6"
      },
      "source": [
        "y_pred_class = model.predict_classes(X_new)"
      ],
      "execution_count": 80,
      "outputs": [
        {
          "output_type": "stream",
          "text": [
            "/usr/local/lib/python3.7/dist-packages/tensorflow/python/keras/engine/sequential.py:455: UserWarning: `model.predict_classes()` is deprecated and will be removed after 2021-01-01. Please use instead:* `np.argmax(model.predict(x), axis=-1)`,   if your model does multi-class classification   (e.g. if it uses a `softmax` last-layer activation).* `(model.predict(x) > 0.5).astype(\"int32\")`,   if your model does binary classification   (e.g. if it uses a `sigmoid` last-layer activation).\n",
            "  warnings.warn('`model.predict_classes()` is deprecated and '\n"
          ],
          "name": "stderr"
        }
      ]
    },
    {
      "cell_type": "code",
      "metadata": {
        "id": "gqhy986BGVz2"
      },
      "source": [
        ""
      ],
      "execution_count": null,
      "outputs": []
    }
  ]
}